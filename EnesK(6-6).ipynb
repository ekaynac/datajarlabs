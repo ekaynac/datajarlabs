{
 "cells": [
  {
   "cell_type": "code",
   "execution_count": 1,
   "metadata": {
    "Collapsed": "false"
   },
   "outputs": [],
   "source": [
    "import matplotlib.pyplot as plt\n",
    "import numpy as np\n",
    "import pandas as pd\n",
    "from sklearn.linear_model import LinearRegression\n",
    "from sklearn.model_selection import train_test_split\n",
    "from sklearn.metrics import mean_absolute_error\n",
    "import statsmodels.api as sm\n",
    "from statsmodels.tools.eval_measures import mse, rmse\n",
    "\n",
    "%matplotlib inline\n",
    "pd.options.display.float_format = '{:.3f}'.format\n",
    "\n",
    "import warnings\n",
    "warnings.filterwarnings(action=\"ignore\")"
   ]
  },
  {
   "cell_type": "markdown",
   "metadata": {
    "Collapsed": "false"
   },
   "source": [
    "# Assignment(6-6)"
   ]
  },
  {
   "cell_type": "markdown",
   "metadata": {
    "Collapsed": "false"
   },
   "source": [
    "## Initializations"
   ]
  },
  {
   "cell_type": "code",
   "execution_count": 2,
   "metadata": {
    "Collapsed": "false"
   },
   "outputs": [],
   "source": [
    "house = pd.read_csv(\"house_features_for_model.csv\")\n",
    "price = pd.read_csv(\"house_prices_for_model.csv\")\n",
    "\n",
    "X= house\n",
    "Y= price\n"
   ]
  },
  {
   "cell_type": "code",
   "execution_count": 3,
   "metadata": {
    "Collapsed": "false"
   },
   "outputs": [
    {
     "name": "stdout",
     "output_type": "stream",
     "text": [
      "Eğitim kümesindeki gözlem sayısı : 1103\n",
      "Test kümesindeki gözlem sayısı   : 276\n"
     ]
    }
   ],
   "source": [
    "X_train, X_test, y_train, y_test = train_test_split(X, Y, test_size = 0.2, random_state = 465)\n",
    "\n",
    "print(\"Eğitim kümesindeki gözlem sayısı : {}\".format(X_train.shape[0]))\n",
    "print(\"Test kümesindeki gözlem sayısı   : {}\".format(X_test.shape[0]))\n"
   ]
  },
  {
   "cell_type": "code",
   "execution_count": 4,
   "metadata": {
    "Collapsed": "false"
   },
   "outputs": [
    {
     "data": {
      "text/html": [
       "<table class=\"simpletable\">\n",
       "<caption>OLS Regression Results</caption>\n",
       "<tr>\n",
       "  <th>Dep. Variable:</th>        <td>SalePrice</td>    <th>  R-squared:         </th> <td>   0.823</td> \n",
       "</tr>\n",
       "<tr>\n",
       "  <th>Model:</th>                   <td>OLS</td>       <th>  Adj. R-squared:    </th> <td>   0.820</td> \n",
       "</tr>\n",
       "<tr>\n",
       "  <th>Method:</th>             <td>Least Squares</td>  <th>  F-statistic:       </th> <td>   315.0</td> \n",
       "</tr>\n",
       "<tr>\n",
       "  <th>Date:</th>             <td>Thu, 23 Apr 2020</td> <th>  Prob (F-statistic):</th>  <td>  0.00</td>  \n",
       "</tr>\n",
       "<tr>\n",
       "  <th>Time:</th>                 <td>19:28:36</td>     <th>  Log-Likelihood:    </th> <td> -13039.</td> \n",
       "</tr>\n",
       "<tr>\n",
       "  <th>No. Observations:</th>      <td>  1103</td>      <th>  AIC:               </th> <td>2.611e+04</td>\n",
       "</tr>\n",
       "<tr>\n",
       "  <th>Df Residuals:</th>          <td>  1086</td>      <th>  BIC:               </th> <td>2.620e+04</td>\n",
       "</tr>\n",
       "<tr>\n",
       "  <th>Df Model:</th>              <td>    16</td>      <th>                     </th>     <td> </td>    \n",
       "</tr>\n",
       "<tr>\n",
       "  <th>Covariance Type:</th>      <td>nonrobust</td>    <th>                     </th>     <td> </td>    \n",
       "</tr>\n",
       "</table>\n",
       "<table class=\"simpletable\">\n",
       "<tr>\n",
       "              <td></td>                <th>coef</th>     <th>std err</th>      <th>t</th>      <th>P>|t|</th>  <th>[0.025</th>    <th>0.975]</th>  \n",
       "</tr>\n",
       "<tr>\n",
       "  <th>const</th>                    <td> 7.907e+04</td> <td> 1.91e+04</td> <td>    4.147</td> <td> 0.000</td> <td> 4.17e+04</td> <td> 1.16e+05</td>\n",
       "</tr>\n",
       "<tr>\n",
       "  <th>Neighborhood_Crawfor</th>     <td> 3.567e+04</td> <td> 5418.485</td> <td>    6.582</td> <td> 0.000</td> <td>  2.5e+04</td> <td> 4.63e+04</td>\n",
       "</tr>\n",
       "<tr>\n",
       "  <th>Neighborhood_NoRidge</th>     <td> 6.342e+04</td> <td> 6558.266</td> <td>    9.670</td> <td> 0.000</td> <td> 5.05e+04</td> <td> 7.63e+04</td>\n",
       "</tr>\n",
       "<tr>\n",
       "  <th>Neighborhood_NridgHt</th>     <td> 2.982e+04</td> <td> 5218.836</td> <td>    5.714</td> <td> 0.000</td> <td> 1.96e+04</td> <td> 4.01e+04</td>\n",
       "</tr>\n",
       "<tr>\n",
       "  <th>Neighborhood_StoneBr</th>     <td> 5.477e+04</td> <td> 7823.646</td> <td>    7.000</td> <td> 0.000</td> <td> 3.94e+04</td> <td> 7.01e+04</td>\n",
       "</tr>\n",
       "<tr>\n",
       "  <th>Neighborhood_Veenker</th>     <td> 2.052e+04</td> <td> 1.14e+04</td> <td>    1.806</td> <td> 0.071</td> <td>-1774.446</td> <td> 4.28e+04</td>\n",
       "</tr>\n",
       "<tr>\n",
       "  <th>Condition2_PosN</th>          <td>-1.498e+05</td> <td> 2.43e+04</td> <td>   -6.156</td> <td> 0.000</td> <td>-1.97e+05</td> <td>-1.02e+05</td>\n",
       "</tr>\n",
       "<tr>\n",
       "  <th>Exterior1st_BrkFace</th>      <td> 1.686e+04</td> <td> 5523.395</td> <td>    3.053</td> <td> 0.002</td> <td> 6023.583</td> <td> 2.77e+04</td>\n",
       "</tr>\n",
       "<tr>\n",
       "  <th>Fireplaces</th>               <td> 1.097e+04</td> <td> 1791.719</td> <td>    6.122</td> <td> 0.000</td> <td> 7452.668</td> <td> 1.45e+04</td>\n",
       "</tr>\n",
       "<tr>\n",
       "  <th>GarageArea</th>               <td>   34.2444</td> <td>    9.879</td> <td>    3.466</td> <td> 0.001</td> <td>   14.860</td> <td>   53.629</td>\n",
       "</tr>\n",
       "<tr>\n",
       "  <th>OverallQual</th>              <td>-4.162e+04</td> <td> 5821.414</td> <td>   -7.150</td> <td> 0.000</td> <td> -5.3e+04</td> <td>-3.02e+04</td>\n",
       "</tr>\n",
       "<tr>\n",
       "  <th>OverallCond</th>              <td> 8322.2997</td> <td> 1043.358</td> <td>    7.976</td> <td> 0.000</td> <td> 6275.075</td> <td> 1.04e+04</td>\n",
       "</tr>\n",
       "<tr>\n",
       "  <th>GarageCars</th>               <td> 9123.7944</td> <td> 3053.449</td> <td>    2.988</td> <td> 0.003</td> <td> 3132.467</td> <td> 1.51e+04</td>\n",
       "</tr>\n",
       "<tr>\n",
       "  <th>TotRmsAbvGrd</th>             <td>-1.335e+05</td> <td> 1.29e+04</td> <td>  -10.368</td> <td> 0.000</td> <td>-1.59e+05</td> <td>-1.08e+05</td>\n",
       "</tr>\n",
       "<tr>\n",
       "  <th>OverallQual * LotArea</th>    <td>    0.1245</td> <td>    0.015</td> <td>    8.478</td> <td> 0.000</td> <td>    0.096</td> <td>    0.153</td>\n",
       "</tr>\n",
       "<tr>\n",
       "  <th>YearBuilt * TotRmsAbvGrd</th> <td>   72.3549</td> <td>    6.614</td> <td>   10.939</td> <td> 0.000</td> <td>   59.376</td> <td>   85.334</td>\n",
       "</tr>\n",
       "<tr>\n",
       "  <th>OverallQual**2</th>           <td> 5015.7520</td> <td>  463.251</td> <td>   10.827</td> <td> 0.000</td> <td> 4106.783</td> <td> 5924.721</td>\n",
       "</tr>\n",
       "</table>\n",
       "<table class=\"simpletable\">\n",
       "<tr>\n",
       "  <th>Omnibus:</th>       <td>289.291</td> <th>  Durbin-Watson:     </th> <td>   2.037</td> \n",
       "</tr>\n",
       "<tr>\n",
       "  <th>Prob(Omnibus):</th> <td> 0.000</td>  <th>  Jarque-Bera (JB):  </th> <td>19408.350</td>\n",
       "</tr>\n",
       "<tr>\n",
       "  <th>Skew:</th>          <td>-0.039</td>  <th>  Prob(JB):          </th> <td>    0.00</td> \n",
       "</tr>\n",
       "<tr>\n",
       "  <th>Kurtosis:</th>      <td>23.550</td>  <th>  Cond. No.          </th> <td>2.54e+06</td> \n",
       "</tr>\n",
       "</table><br/><br/>Warnings:<br/>[1] Standard Errors assume that the covariance matrix of the errors is correctly specified.<br/>[2] The condition number is large, 2.54e+06. This might indicate that there are<br/>strong multicollinearity or other numerical problems."
      ],
      "text/plain": [
       "<class 'statsmodels.iolib.summary.Summary'>\n",
       "\"\"\"\n",
       "                            OLS Regression Results                            \n",
       "==============================================================================\n",
       "Dep. Variable:              SalePrice   R-squared:                       0.823\n",
       "Model:                            OLS   Adj. R-squared:                  0.820\n",
       "Method:                 Least Squares   F-statistic:                     315.0\n",
       "Date:                Thu, 23 Apr 2020   Prob (F-statistic):               0.00\n",
       "Time:                        19:28:36   Log-Likelihood:                -13039.\n",
       "No. Observations:                1103   AIC:                         2.611e+04\n",
       "Df Residuals:                    1086   BIC:                         2.620e+04\n",
       "Df Model:                          16                                         \n",
       "Covariance Type:            nonrobust                                         \n",
       "============================================================================================\n",
       "                               coef    std err          t      P>|t|      [0.025      0.975]\n",
       "--------------------------------------------------------------------------------------------\n",
       "const                     7.907e+04   1.91e+04      4.147      0.000    4.17e+04    1.16e+05\n",
       "Neighborhood_Crawfor      3.567e+04   5418.485      6.582      0.000     2.5e+04    4.63e+04\n",
       "Neighborhood_NoRidge      6.342e+04   6558.266      9.670      0.000    5.05e+04    7.63e+04\n",
       "Neighborhood_NridgHt      2.982e+04   5218.836      5.714      0.000    1.96e+04    4.01e+04\n",
       "Neighborhood_StoneBr      5.477e+04   7823.646      7.000      0.000    3.94e+04    7.01e+04\n",
       "Neighborhood_Veenker      2.052e+04   1.14e+04      1.806      0.071   -1774.446    4.28e+04\n",
       "Condition2_PosN          -1.498e+05   2.43e+04     -6.156      0.000   -1.97e+05   -1.02e+05\n",
       "Exterior1st_BrkFace       1.686e+04   5523.395      3.053      0.002    6023.583    2.77e+04\n",
       "Fireplaces                1.097e+04   1791.719      6.122      0.000    7452.668    1.45e+04\n",
       "GarageArea                  34.2444      9.879      3.466      0.001      14.860      53.629\n",
       "OverallQual              -4.162e+04   5821.414     -7.150      0.000    -5.3e+04   -3.02e+04\n",
       "OverallCond               8322.2997   1043.358      7.976      0.000    6275.075    1.04e+04\n",
       "GarageCars                9123.7944   3053.449      2.988      0.003    3132.467    1.51e+04\n",
       "TotRmsAbvGrd             -1.335e+05   1.29e+04    -10.368      0.000   -1.59e+05   -1.08e+05\n",
       "OverallQual * LotArea        0.1245      0.015      8.478      0.000       0.096       0.153\n",
       "YearBuilt * TotRmsAbvGrd    72.3549      6.614     10.939      0.000      59.376      85.334\n",
       "OverallQual**2            5015.7520    463.251     10.827      0.000    4106.783    5924.721\n",
       "==============================================================================\n",
       "Omnibus:                      289.291   Durbin-Watson:                   2.037\n",
       "Prob(Omnibus):                  0.000   Jarque-Bera (JB):            19408.350\n",
       "Skew:                          -0.039   Prob(JB):                         0.00\n",
       "Kurtosis:                      23.550   Cond. No.                     2.54e+06\n",
       "==============================================================================\n",
       "\n",
       "Warnings:\n",
       "[1] Standard Errors assume that the covariance matrix of the errors is correctly specified.\n",
       "[2] The condition number is large, 2.54e+06. This might indicate that there are\n",
       "strong multicollinearity or other numerical problems.\n",
       "\"\"\""
      ]
     },
     "execution_count": 4,
     "metadata": {},
     "output_type": "execute_result"
    }
   ],
   "source": [
    "model = sm.OLS(y_train, X_train).fit()\n",
    "\n",
    "model.summary()"
   ]
  },
  {
   "cell_type": "code",
   "execution_count": 5,
   "metadata": {
    "Collapsed": "false"
   },
   "outputs": [],
   "source": [
    "X_test = sm.add_constant(X_test)\n",
    "\n",
    "Y_test_pred = model.predict(X_test)\n",
    "\n",
    "Y_pred = model.predict(X)"
   ]
  },
  {
   "cell_type": "code",
   "execution_count": 6,
   "metadata": {
    "Collapsed": "false"
   },
   "outputs": [
    {
     "data": {
      "image/png": "[encoded data removed]",
      "text/plain": [
       "<Figure size 432x288 with 1 Axes>"
      ]
     },
     "metadata": {
      "needs_background": "light"
     },
     "output_type": "display_data"
    }
   ],
   "source": [
    "plt.scatter(Y, Y_pred)\n",
    "plt.plot(y_test, y_test, color=\"red\")\n",
    "plt.xlabel(\"Gerçek Değerler\")\n",
    "plt.ylabel(\"Tahmin edilen Değerler\")\n",
    "plt.title(\"Eğitim Serisi\")\n",
    "plt.show()"
   ]
  },
  {
   "cell_type": "code",
   "execution_count": 7,
   "metadata": {
    "Collapsed": "false"
   },
   "outputs": [
    {
     "data": {
      "image/png": "[encoded data removed]",
      "text/plain": [
       "<Figure size 432x288 with 1 Axes>"
      ]
     },
     "metadata": {
      "needs_background": "light"
     },
     "output_type": "display_data"
    }
   ],
   "source": [
    "plt.scatter(y_test, Y_test_pred)\n",
    "plt.plot(y_test, y_test, color=\"red\")\n",
    "plt.xlabel(\"Gerçek Değerler\")\n",
    "plt.ylabel(\"Tahmin edilen Değerler\")\n",
    "plt.title(\"Test Serisi\")\n",
    "plt.show()"
   ]
  },
  {
   "cell_type": "markdown",
   "metadata": {
    "Collapsed": "false"
   },
   "source": [
    "Maybe we can winsorize or do log transformation for outliners but generally our model looks good."
   ]
  },
  {
   "cell_type": "code",
   "execution_count": 16,
   "metadata": {
    "Collapsed": "false"
   },
   "outputs": [
    {
     "name": "stdout",
     "output_type": "stream",
     "text": [
      "Ortalama Mutlak Hata (MSE)        : 24056.685189813266\n",
      "Ortalama Kare Hata (MSE)          : 1299948266.7487316\n",
      "Kök Ortalama Kare Hata (RMSE)     : 36054.79533638669\n",
      "Ortalama Mutlak Yüzde Hata (MAPE) : 13.699051153079298\n"
     ]
    }
   ],
   "source": [
    "print(\"Ortalama Mutlak Hata (MSE)        : {}\".format(mean_absolute_error(y_test.iloc[:,0], Y_test_pred)))\n",
    "print(\"Ortalama Kare Hata (MSE)          : {}\".format(mse(y_test.iloc[:,0], Y_test_pred)))\n",
    "print(\"Kök Ortalama Kare Hata (RMSE)     : {}\".format(rmse(y_test.iloc[:,0], Y_test_pred)))\n",
    "print(\"Ortalama Mutlak Yüzde Hata (MAPE) : {}\".format(np.mean(np.abs((y_test.iloc[:,0] - Y_test_pred) / y_test.iloc[:,0])) * 100))"
   ]
  }
 ],
 "metadata": {
  "kernelspec": {
   "display_name": "Python 3",
   "language": "python",
   "name": "python3"
  },
  "language_info": {
   "codemirror_mode": {
    "name": "ipython",
    "version": 3
   },
   "file_extension": ".py",
   "mimetype": "text/x-python",
   "name": "python",
   "nbconvert_exporter": "python",
   "pygments_lexer": "ipython3",
   "version": "3.7.6"
  },
  "toc-autonumbering": false,
  "toc-showtags": false
 },
 "nbformat": 4,
 "nbformat_minor": 4
}
