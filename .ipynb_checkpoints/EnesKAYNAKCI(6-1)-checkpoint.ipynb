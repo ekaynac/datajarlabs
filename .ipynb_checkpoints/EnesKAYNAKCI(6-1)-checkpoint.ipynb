{
 "cells": [
  {
   "cell_type": "markdown",
   "metadata": {},
   "source": [
    "1) Sürekli bir değişkeni tahmin etmeye çalışıyorum. Bu bir regresyon görevi.\n",
    "\n",
    "2)\n",
    "\n",
    "a)OLS, özel bir regresyon modeli değil. Regresyon modeline dahil bir algoritmadır.\n",
    "\n",
    "b)Doğru, regresyon modelimiz varsayımları karşılamalıdır.\n",
    "\n",
    "c)Evet. Estimination ve prediction doğrusal regresyon bağlamında aynı şeylerdir.\n",
    "\n",
    "d)Doğru. Regresyon pronlemleri farklı modellerle de çözülebilir.\n"
   ]
  },
  {
   "cell_type": "code",
   "execution_count": null,
   "metadata": {},
   "outputs": [],
   "source": []
  }
 ],
 "metadata": {
  "kernelspec": {
   "display_name": "Python 3",
   "language": "python",
   "name": "python3"
  },
  "language_info": {
   "codemirror_mode": {
    "name": "ipython",
    "version": 3
   },
   "file_extension": ".py",
   "mimetype": "text/x-python",
   "name": "python",
   "nbconvert_exporter": "python",
   "pygments_lexer": "ipython3",
   "version": "3.7.6"
  }
 },
 "nbformat": 4,
 "nbformat_minor": 4
}
