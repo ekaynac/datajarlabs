{
 "cells": [
  {
   "cell_type": "code",
   "execution_count": 1,
   "metadata": {
    "Collapsed": "false"
   },
   "outputs": [
    {
     "name": "stderr",
     "output_type": "stream",
     "text": [
      "\n",
      "Bad key \"text.kerning_factor\" on line 4 in\n",
      "C:\\Users\\enes_\\anaconda3\\envs\\tensorflow-gpu\\lib\\site-packages\\matplotlib\\mpl-data\\stylelib\\_classic_test_patch.mplstyle.\n",
      "You probably need to get an updated matplotlibrc file from\n",
      "https://github.com/matplotlib/matplotlib/blob/v3.1.3/matplotlibrc.template\n",
      "or from the matplotlib source distribution\n"
     ]
    }
   ],
   "source": [
    "import numpy as np\n",
    "import pandas as pd\n",
    "import matplotlib.pyplot as plt\n",
    "import seaborn as sns\n",
    "import lightgbm as lgb\n",
    "import xgboost as xgb\n",
    "import tensorflow as tf\n",
    "from sklearn.metrics import mean_squared_error, accuracy_score, plot_confusion_matrix\n",
    "from sklearn.svm import SVC\n",
    "from sklearn.model_selection import train_test_split, RandomizedSearchCV, cross_validate\n",
    "from sklearn.ensemble import RandomForestClassifier, RandomForestRegressor\n",
    "from sklearn.tree import DecisionTreeRegressor, DecisionTreeClassifier\n",
    "from scipy.stats import boxcox\n",
    "from sklearn import linear_model\n",
    "from sklearn.neighbors import KNeighborsClassifier\n",
    "import time\n",
    "import warnings\n",
    "warnings.filterwarnings('ignore')\n",
    "pd.options.display.float_format = '{:,.2f}'.format"
   ]
  },
  {
   "cell_type": "code",
   "execution_count": 2,
   "metadata": {
    "Collapsed": "false"
   },
   "outputs": [],
   "source": [
    "def toc(tic):\n",
    "    elapsed= time.time()-tic\n",
    "    return elapsed"
   ]
  },
  {
   "cell_type": "markdown",
   "metadata": {
    "Collapsed": "false"
   },
   "source": [
    "# Introduction"
   ]
  },
  {
   "cell_type": "markdown",
   "metadata": {
    "Collapsed": "false"
   },
   "source": [
    "In this project how different models perform on certain datasets and how exploratory data analysis affects the given models will be demonstrated. Famous house prices dataset from kaggle (https://www.kaggle.com/c/house-prices-advanced-regression-techniques) will be used for linear regression models, the \"hello world\" dataset of machine learning: titanic dataset will be used for binary classification(https://www.kaggle.com/c/titanic/data), and Fashion MNIST (https://www.kaggle.com/zalando-research/fashionmnist) dataset will be used for multiclass classification."
   ]
  },
  {
   "cell_type": "markdown",
   "metadata": {
    "Collapsed": "true",
    "toc-hr-collapsed": true,
    "toc-nb-collapsed": true
   },
   "source": [
    "# Datasets"
   ]
  },
  {
   "cell_type": "markdown",
   "metadata": {
    "Collapsed": "false"
   },
   "source": [
    " Both time spent and accuracy of algorithms will be inspected for all datasets. (Only some models can work with raw(unfilled) dataset.)"
   ]
  },
  {
   "cell_type": "markdown",
   "metadata": {
    "Collapsed": "false"
   },
   "source": [
    "Raw:\n",
    "    \n",
    "    Datasets will be imported from original sources"
   ]
  },
  {
   "cell_type": "markdown",
   "metadata": {
    "Collapsed": "false"
   },
   "source": [
    "Filled:\n",
    "\n",
    "    Raw datasets will be checked for missing(NaN) values, and missing values will be filled by various methods.(mean, median, enterpolation)\n",
    "    "
   ]
  },
  {
   "cell_type": "markdown",
   "metadata": {
    "Collapsed": "false"
   },
   "source": [
    "Transformation:\n",
    "\n",
    "    Filled raw features will be transformed with Box-cox transformation.(https://docs.scipy.org/doc/scipy/reference/generated/scipy.stats.boxcox.html)"
   ]
  },
  {
   "cell_type": "markdown",
   "metadata": {
    "Collapsed": "false"
   },
   "source": [
    "## Raw (get_dummies) "
   ]
  },
  {
   "cell_type": "code",
   "execution_count": 3,
   "metadata": {
    "Collapsed": "false"
   },
   "outputs": [],
   "source": [
    "dataset_path = r'C:\\Users\\enes_\\Documents\\GitHub\\All-Models-Examination\\Datasets\\\\'\n",
    "\n",
    "titanic      = pd.read_csv(dataset_path+\"titanic.csv\")\n",
    "house_prices = pd.read_csv(dataset_path+\"house_prices.csv\")\n",
    "fashion_mnist= pd.read_csv(dataset_path+\"fashion_mnist.csv\")"
   ]
  },
  {
   "cell_type": "code",
   "execution_count": 4,
   "metadata": {
    "Collapsed": "false"
   },
   "outputs": [
    {
     "data": {
      "text/html": [
       "<div>\n",
       "<style scoped>\n",
       "    .dataframe tbody tr th:only-of-type {\n",
       "        vertical-align: middle;\n",
       "    }\n",
       "\n",
       "    .dataframe tbody tr th {\n",
       "        vertical-align: top;\n",
       "    }\n",
       "\n",
       "    .dataframe thead th {\n",
       "        text-align: right;\n",
       "    }\n",
       "</style>\n",
       "<table border=\"1\" class=\"dataframe\">\n",
       "  <thead>\n",
       "    <tr style=\"text-align: right;\">\n",
       "      <th></th>\n",
       "      <th>PassengerId</th>\n",
       "      <th>Survived</th>\n",
       "      <th>Pclass</th>\n",
       "      <th>Name</th>\n",
       "      <th>Sex</th>\n",
       "      <th>Age</th>\n",
       "      <th>SibSp</th>\n",
       "      <th>Parch</th>\n",
       "      <th>Ticket</th>\n",
       "      <th>Fare</th>\n",
       "      <th>Cabin</th>\n",
       "      <th>Embarked</th>\n",
       "    </tr>\n",
       "  </thead>\n",
       "  <tbody>\n",
       "    <tr>\n",
       "      <th>0</th>\n",
       "      <td>1</td>\n",
       "      <td>0</td>\n",
       "      <td>3</td>\n",
       "      <td>Braund, Mr. Owen Harris</td>\n",
       "      <td>male</td>\n",
       "      <td>22.00</td>\n",
       "      <td>1</td>\n",
       "      <td>0</td>\n",
       "      <td>A/5 21171</td>\n",
       "      <td>7.25</td>\n",
       "      <td>NaN</td>\n",
       "      <td>S</td>\n",
       "    </tr>\n",
       "    <tr>\n",
       "      <th>1</th>\n",
       "      <td>2</td>\n",
       "      <td>1</td>\n",
       "      <td>1</td>\n",
       "      <td>Cumings, Mrs. John Bradley (Florence Briggs Th...</td>\n",
       "      <td>female</td>\n",
       "      <td>38.00</td>\n",
       "      <td>1</td>\n",
       "      <td>0</td>\n",
       "      <td>PC 17599</td>\n",
       "      <td>71.28</td>\n",
       "      <td>C85</td>\n",
       "      <td>C</td>\n",
       "    </tr>\n",
       "    <tr>\n",
       "      <th>2</th>\n",
       "      <td>3</td>\n",
       "      <td>1</td>\n",
       "      <td>3</td>\n",
       "      <td>Heikkinen, Miss. Laina</td>\n",
       "      <td>female</td>\n",
       "      <td>26.00</td>\n",
       "      <td>0</td>\n",
       "      <td>0</td>\n",
       "      <td>STON/O2. 3101282</td>\n",
       "      <td>7.92</td>\n",
       "      <td>NaN</td>\n",
       "      <td>S</td>\n",
       "    </tr>\n",
       "    <tr>\n",
       "      <th>3</th>\n",
       "      <td>4</td>\n",
       "      <td>1</td>\n",
       "      <td>1</td>\n",
       "      <td>Futrelle, Mrs. Jacques Heath (Lily May Peel)</td>\n",
       "      <td>female</td>\n",
       "      <td>35.00</td>\n",
       "      <td>1</td>\n",
       "      <td>0</td>\n",
       "      <td>113803</td>\n",
       "      <td>53.10</td>\n",
       "      <td>C123</td>\n",
       "      <td>S</td>\n",
       "    </tr>\n",
       "    <tr>\n",
       "      <th>4</th>\n",
       "      <td>5</td>\n",
       "      <td>0</td>\n",
       "      <td>3</td>\n",
       "      <td>Allen, Mr. William Henry</td>\n",
       "      <td>male</td>\n",
       "      <td>35.00</td>\n",
       "      <td>0</td>\n",
       "      <td>0</td>\n",
       "      <td>373450</td>\n",
       "      <td>8.05</td>\n",
       "      <td>NaN</td>\n",
       "      <td>S</td>\n",
       "    </tr>\n",
       "  </tbody>\n",
       "</table>\n",
       "</div>"
      ],
      "text/plain": [
       "   PassengerId  Survived  Pclass  \\\n",
       "0            1         0       3   \n",
       "1            2         1       1   \n",
       "2            3         1       3   \n",
       "3            4         1       1   \n",
       "4            5         0       3   \n",
       "\n",
       "                                                Name     Sex   Age  SibSp  \\\n",
       "0                            Braund, Mr. Owen Harris    male 22.00      1   \n",
       "1  Cumings, Mrs. John Bradley (Florence Briggs Th...  female 38.00      1   \n",
       "2                             Heikkinen, Miss. Laina  female 26.00      0   \n",
       "3       Futrelle, Mrs. Jacques Heath (Lily May Peel)  female 35.00      1   \n",
       "4                           Allen, Mr. William Henry    male 35.00      0   \n",
       "\n",
       "   Parch            Ticket  Fare Cabin Embarked  \n",
       "0      0         A/5 21171  7.25   NaN        S  \n",
       "1      0          PC 17599 71.28   C85        C  \n",
       "2      0  STON/O2. 3101282  7.92   NaN        S  \n",
       "3      0            113803 53.10  C123        S  \n",
       "4      0            373450  8.05   NaN        S  "
      ]
     },
     "execution_count": 4,
     "metadata": {},
     "output_type": "execute_result"
    }
   ],
   "source": [
    "titanic.head()"
   ]
  },
  {
   "cell_type": "code",
   "execution_count": 5,
   "metadata": {
    "Collapsed": "false"
   },
   "outputs": [
    {
     "data": {
      "text/html": [
       "<div>\n",
       "<style scoped>\n",
       "    .dataframe tbody tr th:only-of-type {\n",
       "        vertical-align: middle;\n",
       "    }\n",
       "\n",
       "    .dataframe tbody tr th {\n",
       "        vertical-align: top;\n",
       "    }\n",
       "\n",
       "    .dataframe thead th {\n",
       "        text-align: right;\n",
       "    }\n",
       "</style>\n",
       "<table border=\"1\" class=\"dataframe\">\n",
       "  <thead>\n",
       "    <tr style=\"text-align: right;\">\n",
       "      <th></th>\n",
       "      <th>Id</th>\n",
       "      <th>MSSubClass</th>\n",
       "      <th>MSZoning</th>\n",
       "      <th>LotFrontage</th>\n",
       "      <th>LotArea</th>\n",
       "      <th>Street</th>\n",
       "      <th>Alley</th>\n",
       "      <th>LotShape</th>\n",
       "      <th>LandContour</th>\n",
       "      <th>Utilities</th>\n",
       "      <th>...</th>\n",
       "      <th>PoolArea</th>\n",
       "      <th>PoolQC</th>\n",
       "      <th>Fence</th>\n",
       "      <th>MiscFeature</th>\n",
       "      <th>MiscVal</th>\n",
       "      <th>MoSold</th>\n",
       "      <th>YrSold</th>\n",
       "      <th>SaleType</th>\n",
       "      <th>SaleCondition</th>\n",
       "      <th>SalePrice</th>\n",
       "    </tr>\n",
       "  </thead>\n",
       "  <tbody>\n",
       "    <tr>\n",
       "      <th>0</th>\n",
       "      <td>1</td>\n",
       "      <td>60</td>\n",
       "      <td>RL</td>\n",
       "      <td>65.00</td>\n",
       "      <td>8450</td>\n",
       "      <td>Pave</td>\n",
       "      <td>NaN</td>\n",
       "      <td>Reg</td>\n",
       "      <td>Lvl</td>\n",
       "      <td>AllPub</td>\n",
       "      <td>...</td>\n",
       "      <td>0</td>\n",
       "      <td>NaN</td>\n",
       "      <td>NaN</td>\n",
       "      <td>NaN</td>\n",
       "      <td>0</td>\n",
       "      <td>2</td>\n",
       "      <td>2008</td>\n",
       "      <td>WD</td>\n",
       "      <td>Normal</td>\n",
       "      <td>208500</td>\n",
       "    </tr>\n",
       "    <tr>\n",
       "      <th>1</th>\n",
       "      <td>2</td>\n",
       "      <td>20</td>\n",
       "      <td>RL</td>\n",
       "      <td>80.00</td>\n",
       "      <td>9600</td>\n",
       "      <td>Pave</td>\n",
       "      <td>NaN</td>\n",
       "      <td>Reg</td>\n",
       "      <td>Lvl</td>\n",
       "      <td>AllPub</td>\n",
       "      <td>...</td>\n",
       "      <td>0</td>\n",
       "      <td>NaN</td>\n",
       "      <td>NaN</td>\n",
       "      <td>NaN</td>\n",
       "      <td>0</td>\n",
       "      <td>5</td>\n",
       "      <td>2007</td>\n",
       "      <td>WD</td>\n",
       "      <td>Normal</td>\n",
       "      <td>181500</td>\n",
       "    </tr>\n",
       "    <tr>\n",
       "      <th>2</th>\n",
       "      <td>3</td>\n",
       "      <td>60</td>\n",
       "      <td>RL</td>\n",
       "      <td>68.00</td>\n",
       "      <td>11250</td>\n",
       "      <td>Pave</td>\n",
       "      <td>NaN</td>\n",
       "      <td>IR1</td>\n",
       "      <td>Lvl</td>\n",
       "      <td>AllPub</td>\n",
       "      <td>...</td>\n",
       "      <td>0</td>\n",
       "      <td>NaN</td>\n",
       "      <td>NaN</td>\n",
       "      <td>NaN</td>\n",
       "      <td>0</td>\n",
       "      <td>9</td>\n",
       "      <td>2008</td>\n",
       "      <td>WD</td>\n",
       "      <td>Normal</td>\n",
       "      <td>223500</td>\n",
       "    </tr>\n",
       "    <tr>\n",
       "      <th>3</th>\n",
       "      <td>4</td>\n",
       "      <td>70</td>\n",
       "      <td>RL</td>\n",
       "      <td>60.00</td>\n",
       "      <td>9550</td>\n",
       "      <td>Pave</td>\n",
       "      <td>NaN</td>\n",
       "      <td>IR1</td>\n",
       "      <td>Lvl</td>\n",
       "      <td>AllPub</td>\n",
       "      <td>...</td>\n",
       "      <td>0</td>\n",
       "      <td>NaN</td>\n",
       "      <td>NaN</td>\n",
       "      <td>NaN</td>\n",
       "      <td>0</td>\n",
       "      <td>2</td>\n",
       "      <td>2006</td>\n",
       "      <td>WD</td>\n",
       "      <td>Abnorml</td>\n",
       "      <td>140000</td>\n",
       "    </tr>\n",
       "    <tr>\n",
       "      <th>4</th>\n",
       "      <td>5</td>\n",
       "      <td>60</td>\n",
       "      <td>RL</td>\n",
       "      <td>84.00</td>\n",
       "      <td>14260</td>\n",
       "      <td>Pave</td>\n",
       "      <td>NaN</td>\n",
       "      <td>IR1</td>\n",
       "      <td>Lvl</td>\n",
       "      <td>AllPub</td>\n",
       "      <td>...</td>\n",
       "      <td>0</td>\n",
       "      <td>NaN</td>\n",
       "      <td>NaN</td>\n",
       "      <td>NaN</td>\n",
       "      <td>0</td>\n",
       "      <td>12</td>\n",
       "      <td>2008</td>\n",
       "      <td>WD</td>\n",
       "      <td>Normal</td>\n",
       "      <td>250000</td>\n",
       "    </tr>\n",
       "  </tbody>\n",
       "</table>\n",
       "<p>5 rows × 81 columns</p>\n",
       "</div>"
      ],
      "text/plain": [
       "   Id  MSSubClass MSZoning  LotFrontage  LotArea Street Alley LotShape  \\\n",
       "0   1          60       RL        65.00     8450   Pave   NaN      Reg   \n",
       "1   2          20       RL        80.00     9600   Pave   NaN      Reg   \n",
       "2   3          60       RL        68.00    11250   Pave   NaN      IR1   \n",
       "3   4          70       RL        60.00     9550   Pave   NaN      IR1   \n",
       "4   5          60       RL        84.00    14260   Pave   NaN      IR1   \n",
       "\n",
       "  LandContour Utilities  ... PoolArea PoolQC Fence MiscFeature MiscVal MoSold  \\\n",
       "0         Lvl    AllPub  ...        0    NaN   NaN         NaN       0      2   \n",
       "1         Lvl    AllPub  ...        0    NaN   NaN         NaN       0      5   \n",
       "2         Lvl    AllPub  ...        0    NaN   NaN         NaN       0      9   \n",
       "3         Lvl    AllPub  ...        0    NaN   NaN         NaN       0      2   \n",
       "4         Lvl    AllPub  ...        0    NaN   NaN         NaN       0     12   \n",
       "\n",
       "  YrSold  SaleType  SaleCondition  SalePrice  \n",
       "0   2008        WD         Normal     208500  \n",
       "1   2007        WD         Normal     181500  \n",
       "2   2008        WD         Normal     223500  \n",
       "3   2006        WD        Abnorml     140000  \n",
       "4   2008        WD         Normal     250000  \n",
       "\n",
       "[5 rows x 81 columns]"
      ]
     },
     "execution_count": 5,
     "metadata": {},
     "output_type": "execute_result"
    }
   ],
   "source": [
    "house_prices.head()"
   ]
  },
  {
   "cell_type": "code",
   "execution_count": 6,
   "metadata": {
    "Collapsed": "false"
   },
   "outputs": [
    {
     "data": {
      "text/html": [
       "<div>\n",
       "<style scoped>\n",
       "    .dataframe tbody tr th:only-of-type {\n",
       "        vertical-align: middle;\n",
       "    }\n",
       "\n",
       "    .dataframe tbody tr th {\n",
       "        vertical-align: top;\n",
       "    }\n",
       "\n",
       "    .dataframe thead th {\n",
       "        text-align: right;\n",
       "    }\n",
       "</style>\n",
       "<table border=\"1\" class=\"dataframe\">\n",
       "  <thead>\n",
       "    <tr style=\"text-align: right;\">\n",
       "      <th></th>\n",
       "      <th>label</th>\n",
       "      <th>pixel1</th>\n",
       "      <th>pixel2</th>\n",
       "      <th>pixel3</th>\n",
       "      <th>pixel4</th>\n",
       "      <th>pixel5</th>\n",
       "      <th>pixel6</th>\n",
       "      <th>pixel7</th>\n",
       "      <th>pixel8</th>\n",
       "      <th>pixel9</th>\n",
       "      <th>...</th>\n",
       "      <th>pixel775</th>\n",
       "      <th>pixel776</th>\n",
       "      <th>pixel777</th>\n",
       "      <th>pixel778</th>\n",
       "      <th>pixel779</th>\n",
       "      <th>pixel780</th>\n",
       "      <th>pixel781</th>\n",
       "      <th>pixel782</th>\n",
       "      <th>pixel783</th>\n",
       "      <th>pixel784</th>\n",
       "    </tr>\n",
       "  </thead>\n",
       "  <tbody>\n",
       "    <tr>\n",
       "      <th>0</th>\n",
       "      <td>2</td>\n",
       "      <td>0</td>\n",
       "      <td>0</td>\n",
       "      <td>0</td>\n",
       "      <td>0</td>\n",
       "      <td>0</td>\n",
       "      <td>0</td>\n",
       "      <td>0</td>\n",
       "      <td>0</td>\n",
       "      <td>0</td>\n",
       "      <td>...</td>\n",
       "      <td>0</td>\n",
       "      <td>0</td>\n",
       "      <td>0</td>\n",
       "      <td>0</td>\n",
       "      <td>0</td>\n",
       "      <td>0</td>\n",
       "      <td>0</td>\n",
       "      <td>0</td>\n",
       "      <td>0</td>\n",
       "      <td>0</td>\n",
       "    </tr>\n",
       "    <tr>\n",
       "      <th>1</th>\n",
       "      <td>9</td>\n",
       "      <td>0</td>\n",
       "      <td>0</td>\n",
       "      <td>0</td>\n",
       "      <td>0</td>\n",
       "      <td>0</td>\n",
       "      <td>0</td>\n",
       "      <td>0</td>\n",
       "      <td>0</td>\n",
       "      <td>0</td>\n",
       "      <td>...</td>\n",
       "      <td>0</td>\n",
       "      <td>0</td>\n",
       "      <td>0</td>\n",
       "      <td>0</td>\n",
       "      <td>0</td>\n",
       "      <td>0</td>\n",
       "      <td>0</td>\n",
       "      <td>0</td>\n",
       "      <td>0</td>\n",
       "      <td>0</td>\n",
       "    </tr>\n",
       "    <tr>\n",
       "      <th>2</th>\n",
       "      <td>6</td>\n",
       "      <td>0</td>\n",
       "      <td>0</td>\n",
       "      <td>0</td>\n",
       "      <td>0</td>\n",
       "      <td>0</td>\n",
       "      <td>0</td>\n",
       "      <td>0</td>\n",
       "      <td>5</td>\n",
       "      <td>0</td>\n",
       "      <td>...</td>\n",
       "      <td>0</td>\n",
       "      <td>0</td>\n",
       "      <td>0</td>\n",
       "      <td>30</td>\n",
       "      <td>43</td>\n",
       "      <td>0</td>\n",
       "      <td>0</td>\n",
       "      <td>0</td>\n",
       "      <td>0</td>\n",
       "      <td>0</td>\n",
       "    </tr>\n",
       "    <tr>\n",
       "      <th>3</th>\n",
       "      <td>0</td>\n",
       "      <td>0</td>\n",
       "      <td>0</td>\n",
       "      <td>0</td>\n",
       "      <td>1</td>\n",
       "      <td>2</td>\n",
       "      <td>0</td>\n",
       "      <td>0</td>\n",
       "      <td>0</td>\n",
       "      <td>0</td>\n",
       "      <td>...</td>\n",
       "      <td>3</td>\n",
       "      <td>0</td>\n",
       "      <td>0</td>\n",
       "      <td>0</td>\n",
       "      <td>0</td>\n",
       "      <td>1</td>\n",
       "      <td>0</td>\n",
       "      <td>0</td>\n",
       "      <td>0</td>\n",
       "      <td>0</td>\n",
       "    </tr>\n",
       "    <tr>\n",
       "      <th>4</th>\n",
       "      <td>3</td>\n",
       "      <td>0</td>\n",
       "      <td>0</td>\n",
       "      <td>0</td>\n",
       "      <td>0</td>\n",
       "      <td>0</td>\n",
       "      <td>0</td>\n",
       "      <td>0</td>\n",
       "      <td>0</td>\n",
       "      <td>0</td>\n",
       "      <td>...</td>\n",
       "      <td>0</td>\n",
       "      <td>0</td>\n",
       "      <td>0</td>\n",
       "      <td>0</td>\n",
       "      <td>0</td>\n",
       "      <td>0</td>\n",
       "      <td>0</td>\n",
       "      <td>0</td>\n",
       "      <td>0</td>\n",
       "      <td>0</td>\n",
       "    </tr>\n",
       "  </tbody>\n",
       "</table>\n",
       "<p>5 rows × 785 columns</p>\n",
       "</div>"
      ],
      "text/plain": [
       "   label  pixel1  pixel2  pixel3  pixel4  pixel5  pixel6  pixel7  pixel8  \\\n",
       "0      2       0       0       0       0       0       0       0       0   \n",
       "1      9       0       0       0       0       0       0       0       0   \n",
       "2      6       0       0       0       0       0       0       0       5   \n",
       "3      0       0       0       0       1       2       0       0       0   \n",
       "4      3       0       0       0       0       0       0       0       0   \n",
       "\n",
       "   pixel9  ...  pixel775  pixel776  pixel777  pixel778  pixel779  pixel780  \\\n",
       "0       0  ...         0         0         0         0         0         0   \n",
       "1       0  ...         0         0         0         0         0         0   \n",
       "2       0  ...         0         0         0        30        43         0   \n",
       "3       0  ...         3         0         0         0         0         1   \n",
       "4       0  ...         0         0         0         0         0         0   \n",
       "\n",
       "   pixel781  pixel782  pixel783  pixel784  \n",
       "0         0         0         0         0  \n",
       "1         0         0         0         0  \n",
       "2         0         0         0         0  \n",
       "3         0         0         0         0  \n",
       "4         0         0         0         0  \n",
       "\n",
       "[5 rows x 785 columns]"
      ]
     },
     "execution_count": 6,
     "metadata": {},
     "output_type": "execute_result"
    }
   ],
   "source": [
    "fashion_mnist.head()"
   ]
  },
  {
   "cell_type": "code",
   "execution_count": 7,
   "metadata": {
    "Collapsed": "false"
   },
   "outputs": [],
   "source": [
    "del titanic[\"Name\"]\n",
    "del titanic[\"Ticket\"]\n",
    "del titanic[\"Cabin\"]\n",
    "del house_prices[\"Id\"]"
   ]
  },
  {
   "cell_type": "markdown",
   "metadata": {
    "Collapsed": "false"
   },
   "source": [
    "We surely do not need passengers' names and ticket IDs to predict if they are survived or not."
   ]
  },
  {
   "cell_type": "code",
   "execution_count": 8,
   "metadata": {
    "Collapsed": "false"
   },
   "outputs": [],
   "source": [
    "def get_dummy(df):\n",
    "    object_features = list()\n",
    "    for feature in df:\n",
    "        if df[feature].dtype==object:\n",
    "            dummies = pd.get_dummies(df[feature])\n",
    "            df = pd.merge(df,dummies,right_index=True,left_index=True)\n",
    "            del df[feature]\n",
    "    return df\n",
    "            "
   ]
  },
  {
   "cell_type": "markdown",
   "metadata": {
    "Collapsed": "false"
   },
   "source": [
    "This function replaces all categorical features with dummies, and returns the replaced array as numpy array."
   ]
  },
  {
   "cell_type": "code",
   "execution_count": 9,
   "metadata": {
    "Collapsed": "false"
   },
   "outputs": [],
   "source": [
    "titanic_raw       = get_dummy(titanic)\n",
    "fashion_mnist_raw = get_dummy(fashion_mnist)\n",
    "house_prices_raw  = get_dummy(house_prices)"
   ]
  },
  {
   "cell_type": "markdown",
   "metadata": {
    "Collapsed": "false"
   },
   "source": [
    "Raw datasets are ready."
   ]
  },
  {
   "cell_type": "markdown",
   "metadata": {
    "Collapsed": "true"
   },
   "source": [
    "## Filled"
   ]
  },
  {
   "cell_type": "code",
   "execution_count": 10,
   "metadata": {
    "Collapsed": "false"
   },
   "outputs": [],
   "source": [
    "def fill_median(df_to_fill):\n",
    "    need_to_fill = df_to_fill.columns[df_to_fill.isnull().sum() *100 /df_to_fill.shape[0] !=0]\n",
    "    for feature in need_to_fill:\n",
    "        for i in df_to_fill[df_to_fill[feature].isnull()].index:\n",
    "            all_nonull_values_for_feature =df_to_fill[feature][df_to_fill[feature].isnull()==False]\n",
    "            df_to_fill.loc[i,feature] = df_to_fill[feature].value_counts().index[0]\n",
    "    return df_to_fill"
   ]
  },
  {
   "cell_type": "markdown",
   "metadata": {
    "Collapsed": "false"
   },
   "source": [
    "This function fills all null values with median of the missing feature. And returns all filled dataframe."
   ]
  },
  {
   "cell_type": "code",
   "execution_count": 11,
   "metadata": {
    "Collapsed": "false"
   },
   "outputs": [],
   "source": [
    "ttf = fill_median(titanic)\n",
    "hpf = fill_median(house_prices)\n",
    "titanic_filled       = get_dummy(ttf)\n",
    "house_prices_filled  = get_dummy(hpf)\n",
    "fashion_mnist_filled = fashion_mnist"
   ]
  },
  {
   "cell_type": "markdown",
   "metadata": {
    "Collapsed": "false"
   },
   "source": [
    "\n",
    "ttf and hpf created to use in next section, also no need to fill fashion MNIST as it is all filled pixel values, but fashion_mnist_filled array created to make it less confusing."
   ]
  },
  {
   "cell_type": "markdown",
   "metadata": {
    "Collapsed": "true"
   },
   "source": [
    "## Transformation (on Filled)"
   ]
  },
  {
   "cell_type": "code",
   "execution_count": 12,
   "metadata": {
    "Collapsed": "false"
   },
   "outputs": [],
   "source": [
    "def cuberoot_array(df):\n",
    "    for feature in df:\n",
    "        if df[feature].dtype != object:\n",
    "            df[feature] = df[feature]**(1/3)\n",
    "    return df"
   ]
  },
  {
   "cell_type": "code",
   "execution_count": 13,
   "metadata": {
    "Collapsed": "false"
   },
   "outputs": [],
   "source": [
    "house_prices_transformed  = get_dummy(cuberoot_array(hpf))\n",
    "titanic_transformed       = get_dummy(cuberoot_array(ttf))\n",
    "fashion_mnist_transformed = fashion_mnist_filled"
   ]
  },
  {
   "cell_type": "markdown",
   "metadata": {
    "Collapsed": "false"
   },
   "source": [
    "We do not need to transform fashion_mnist, but fashion_mnist_transformed array created to make it less confusing."
   ]
  },
  {
   "cell_type": "markdown",
   "metadata": {
    "Collapsed": "true"
   },
   "source": [
    "## General Properties of Datasets"
   ]
  },
  {
   "cell_type": "code",
   "execution_count": 14,
   "metadata": {
    "Collapsed": "false"
   },
   "outputs": [
    {
     "data": {
      "text/html": [
       "<div>\n",
       "<style scoped>\n",
       "    .dataframe tbody tr th:only-of-type {\n",
       "        vertical-align: middle;\n",
       "    }\n",
       "\n",
       "    .dataframe tbody tr th {\n",
       "        vertical-align: top;\n",
       "    }\n",
       "\n",
       "    .dataframe thead th {\n",
       "        text-align: right;\n",
       "    }\n",
       "</style>\n",
       "<table border=\"1\" class=\"dataframe\">\n",
       "  <thead>\n",
       "    <tr style=\"text-align: right;\">\n",
       "      <th></th>\n",
       "      <th>PassengerId</th>\n",
       "      <th>Survived</th>\n",
       "      <th>Pclass</th>\n",
       "      <th>Age</th>\n",
       "      <th>SibSp</th>\n",
       "      <th>Parch</th>\n",
       "      <th>Fare</th>\n",
       "    </tr>\n",
       "  </thead>\n",
       "  <tbody>\n",
       "    <tr>\n",
       "      <th>count</th>\n",
       "      <td>891.00</td>\n",
       "      <td>891.00</td>\n",
       "      <td>891.00</td>\n",
       "      <td>891.00</td>\n",
       "      <td>891.00</td>\n",
       "      <td>891.00</td>\n",
       "      <td>891.00</td>\n",
       "    </tr>\n",
       "    <tr>\n",
       "      <th>mean</th>\n",
       "      <td>7.22</td>\n",
       "      <td>0.38</td>\n",
       "      <td>1.30</td>\n",
       "      <td>2.97</td>\n",
       "      <td>0.36</td>\n",
       "      <td>0.27</td>\n",
       "      <td>2.77</td>\n",
       "    </tr>\n",
       "    <tr>\n",
       "      <th>std</th>\n",
       "      <td>1.86</td>\n",
       "      <td>0.49</td>\n",
       "      <td>0.18</td>\n",
       "      <td>0.55</td>\n",
       "      <td>0.54</td>\n",
       "      <td>0.49</td>\n",
       "      <td>1.07</td>\n",
       "    </tr>\n",
       "    <tr>\n",
       "      <th>min</th>\n",
       "      <td>1.00</td>\n",
       "      <td>0.00</td>\n",
       "      <td>1.00</td>\n",
       "      <td>0.75</td>\n",
       "      <td>0.00</td>\n",
       "      <td>0.00</td>\n",
       "      <td>0.00</td>\n",
       "    </tr>\n",
       "    <tr>\n",
       "      <th>25%</th>\n",
       "      <td>6.07</td>\n",
       "      <td>0.00</td>\n",
       "      <td>1.26</td>\n",
       "      <td>2.80</td>\n",
       "      <td>0.00</td>\n",
       "      <td>0.00</td>\n",
       "      <td>1.99</td>\n",
       "    </tr>\n",
       "    <tr>\n",
       "      <th>50%</th>\n",
       "      <td>7.64</td>\n",
       "      <td>0.00</td>\n",
       "      <td>1.44</td>\n",
       "      <td>2.88</td>\n",
       "      <td>0.00</td>\n",
       "      <td>0.00</td>\n",
       "      <td>2.44</td>\n",
       "    </tr>\n",
       "    <tr>\n",
       "      <th>75%</th>\n",
       "      <td>8.74</td>\n",
       "      <td>1.00</td>\n",
       "      <td>1.44</td>\n",
       "      <td>3.27</td>\n",
       "      <td>1.00</td>\n",
       "      <td>0.00</td>\n",
       "      <td>3.14</td>\n",
       "    </tr>\n",
       "    <tr>\n",
       "      <th>max</th>\n",
       "      <td>9.62</td>\n",
       "      <td>1.00</td>\n",
       "      <td>1.44</td>\n",
       "      <td>4.31</td>\n",
       "      <td>2.00</td>\n",
       "      <td>1.82</td>\n",
       "      <td>8.00</td>\n",
       "    </tr>\n",
       "  </tbody>\n",
       "</table>\n",
       "</div>"
      ],
      "text/plain": [
       "       PassengerId  Survived  Pclass    Age  SibSp  Parch   Fare\n",
       "count       891.00    891.00  891.00 891.00 891.00 891.00 891.00\n",
       "mean          7.22      0.38    1.30   2.97   0.36   0.27   2.77\n",
       "std           1.86      0.49    0.18   0.55   0.54   0.49   1.07\n",
       "min           1.00      0.00    1.00   0.75   0.00   0.00   0.00\n",
       "25%           6.07      0.00    1.26   2.80   0.00   0.00   1.99\n",
       "50%           7.64      0.00    1.44   2.88   0.00   0.00   2.44\n",
       "75%           8.74      1.00    1.44   3.27   1.00   0.00   3.14\n",
       "max           9.62      1.00    1.44   4.31   2.00   1.82   8.00"
      ]
     },
     "execution_count": 14,
     "metadata": {},
     "output_type": "execute_result"
    }
   ],
   "source": [
    "titanic.describe()"
   ]
  },
  {
   "cell_type": "code",
   "execution_count": 15,
   "metadata": {
    "Collapsed": "false"
   },
   "outputs": [
    {
     "data": {
      "text/html": [
       "<div>\n",
       "<style scoped>\n",
       "    .dataframe tbody tr th:only-of-type {\n",
       "        vertical-align: middle;\n",
       "    }\n",
       "\n",
       "    .dataframe tbody tr th {\n",
       "        vertical-align: top;\n",
       "    }\n",
       "\n",
       "    .dataframe thead th {\n",
       "        text-align: right;\n",
       "    }\n",
       "</style>\n",
       "<table border=\"1\" class=\"dataframe\">\n",
       "  <thead>\n",
       "    <tr style=\"text-align: right;\">\n",
       "      <th></th>\n",
       "      <th>MSSubClass</th>\n",
       "      <th>LotFrontage</th>\n",
       "      <th>LotArea</th>\n",
       "      <th>OverallQual</th>\n",
       "      <th>OverallCond</th>\n",
       "      <th>YearBuilt</th>\n",
       "      <th>YearRemodAdd</th>\n",
       "      <th>MasVnrArea</th>\n",
       "      <th>BsmtFinSF1</th>\n",
       "      <th>BsmtFinSF2</th>\n",
       "      <th>...</th>\n",
       "      <th>WoodDeckSF</th>\n",
       "      <th>OpenPorchSF</th>\n",
       "      <th>EnclosedPorch</th>\n",
       "      <th>3SsnPorch</th>\n",
       "      <th>ScreenPorch</th>\n",
       "      <th>PoolArea</th>\n",
       "      <th>MiscVal</th>\n",
       "      <th>MoSold</th>\n",
       "      <th>YrSold</th>\n",
       "      <th>SalePrice</th>\n",
       "    </tr>\n",
       "  </thead>\n",
       "  <tbody>\n",
       "    <tr>\n",
       "      <th>count</th>\n",
       "      <td>1,460.00</td>\n",
       "      <td>1,460.00</td>\n",
       "      <td>1,460.00</td>\n",
       "      <td>1,460.00</td>\n",
       "      <td>1,460.00</td>\n",
       "      <td>1,460.00</td>\n",
       "      <td>1,460.00</td>\n",
       "      <td>1,460.00</td>\n",
       "      <td>1,460.00</td>\n",
       "      <td>1,460.00</td>\n",
       "      <td>...</td>\n",
       "      <td>1,460.00</td>\n",
       "      <td>1,460.00</td>\n",
       "      <td>1,460.00</td>\n",
       "      <td>1,460.00</td>\n",
       "      <td>1,460.00</td>\n",
       "      <td>1,460.00</td>\n",
       "      <td>1,460.00</td>\n",
       "      <td>1,460.00</td>\n",
       "      <td>1,460.00</td>\n",
       "      <td>1,460.00</td>\n",
       "    </tr>\n",
       "    <tr>\n",
       "      <th>mean</th>\n",
       "      <td>3.64</td>\n",
       "      <td>4.04</td>\n",
       "      <td>21.16</td>\n",
       "      <td>1.82</td>\n",
       "      <td>1.77</td>\n",
       "      <td>12.54</td>\n",
       "      <td>12.57</td>\n",
       "      <td>2.40</td>\n",
       "      <td>5.61</td>\n",
       "      <td>0.80</td>\n",
       "      <td>...</td>\n",
       "      <td>2.69</td>\n",
       "      <td>2.28</td>\n",
       "      <td>0.74</td>\n",
       "      <td>0.09</td>\n",
       "      <td>0.45</td>\n",
       "      <td>0.04</td>\n",
       "      <td>0.33</td>\n",
       "      <td>1.80</td>\n",
       "      <td>12.62</td>\n",
       "      <td>55.53</td>\n",
       "    </tr>\n",
       "    <tr>\n",
       "      <th>std</th>\n",
       "      <td>0.87</td>\n",
       "      <td>0.42</td>\n",
       "      <td>3.82</td>\n",
       "      <td>0.14</td>\n",
       "      <td>0.12</td>\n",
       "      <td>0.06</td>\n",
       "      <td>0.04</td>\n",
       "      <td>3.08</td>\n",
       "      <td>4.18</td>\n",
       "      <td>2.30</td>\n",
       "      <td>...</td>\n",
       "      <td>2.90</td>\n",
       "      <td>2.20</td>\n",
       "      <td>1.85</td>\n",
       "      <td>0.74</td>\n",
       "      <td>1.54</td>\n",
       "      <td>0.57</td>\n",
       "      <td>1.84</td>\n",
       "      <td>0.29</td>\n",
       "      <td>0.00</td>\n",
       "      <td>7.52</td>\n",
       "    </tr>\n",
       "    <tr>\n",
       "      <th>min</th>\n",
       "      <td>2.71</td>\n",
       "      <td>2.76</td>\n",
       "      <td>10.91</td>\n",
       "      <td>1.00</td>\n",
       "      <td>1.00</td>\n",
       "      <td>12.32</td>\n",
       "      <td>12.49</td>\n",
       "      <td>0.00</td>\n",
       "      <td>0.00</td>\n",
       "      <td>0.00</td>\n",
       "      <td>...</td>\n",
       "      <td>0.00</td>\n",
       "      <td>0.00</td>\n",
       "      <td>0.00</td>\n",
       "      <td>0.00</td>\n",
       "      <td>0.00</td>\n",
       "      <td>0.00</td>\n",
       "      <td>0.00</td>\n",
       "      <td>1.00</td>\n",
       "      <td>12.61</td>\n",
       "      <td>32.68</td>\n",
       "    </tr>\n",
       "    <tr>\n",
       "      <th>25%</th>\n",
       "      <td>2.71</td>\n",
       "      <td>3.91</td>\n",
       "      <td>19.62</td>\n",
       "      <td>1.71</td>\n",
       "      <td>1.71</td>\n",
       "      <td>12.50</td>\n",
       "      <td>12.53</td>\n",
       "      <td>0.00</td>\n",
       "      <td>0.00</td>\n",
       "      <td>0.00</td>\n",
       "      <td>...</td>\n",
       "      <td>0.00</td>\n",
       "      <td>0.00</td>\n",
       "      <td>0.00</td>\n",
       "      <td>0.00</td>\n",
       "      <td>0.00</td>\n",
       "      <td>0.00</td>\n",
       "      <td>0.00</td>\n",
       "      <td>1.71</td>\n",
       "      <td>12.61</td>\n",
       "      <td>50.65</td>\n",
       "    </tr>\n",
       "    <tr>\n",
       "      <th>50%</th>\n",
       "      <td>3.68</td>\n",
       "      <td>3.98</td>\n",
       "      <td>21.16</td>\n",
       "      <td>1.82</td>\n",
       "      <td>1.71</td>\n",
       "      <td>12.54</td>\n",
       "      <td>12.59</td>\n",
       "      <td>0.00</td>\n",
       "      <td>7.27</td>\n",
       "      <td>0.00</td>\n",
       "      <td>...</td>\n",
       "      <td>0.00</td>\n",
       "      <td>2.92</td>\n",
       "      <td>0.00</td>\n",
       "      <td>0.00</td>\n",
       "      <td>0.00</td>\n",
       "      <td>0.00</td>\n",
       "      <td>0.00</td>\n",
       "      <td>1.82</td>\n",
       "      <td>12.62</td>\n",
       "      <td>54.63</td>\n",
       "    </tr>\n",
       "    <tr>\n",
       "      <th>75%</th>\n",
       "      <td>4.12</td>\n",
       "      <td>4.29</td>\n",
       "      <td>22.64</td>\n",
       "      <td>1.91</td>\n",
       "      <td>1.82</td>\n",
       "      <td>12.60</td>\n",
       "      <td>12.61</td>\n",
       "      <td>5.48</td>\n",
       "      <td>8.93</td>\n",
       "      <td>0.00</td>\n",
       "      <td>...</td>\n",
       "      <td>5.52</td>\n",
       "      <td>4.08</td>\n",
       "      <td>0.00</td>\n",
       "      <td>0.00</td>\n",
       "      <td>0.00</td>\n",
       "      <td>0.00</td>\n",
       "      <td>0.00</td>\n",
       "      <td>2.00</td>\n",
       "      <td>12.62</td>\n",
       "      <td>59.81</td>\n",
       "    </tr>\n",
       "    <tr>\n",
       "      <th>max</th>\n",
       "      <td>5.75</td>\n",
       "      <td>6.79</td>\n",
       "      <td>59.93</td>\n",
       "      <td>2.15</td>\n",
       "      <td>2.08</td>\n",
       "      <td>12.62</td>\n",
       "      <td>12.62</td>\n",
       "      <td>11.70</td>\n",
       "      <td>17.80</td>\n",
       "      <td>11.38</td>\n",
       "      <td>...</td>\n",
       "      <td>9.50</td>\n",
       "      <td>8.18</td>\n",
       "      <td>8.20</td>\n",
       "      <td>7.98</td>\n",
       "      <td>7.83</td>\n",
       "      <td>9.04</td>\n",
       "      <td>24.93</td>\n",
       "      <td>2.29</td>\n",
       "      <td>12.62</td>\n",
       "      <td>91.06</td>\n",
       "    </tr>\n",
       "  </tbody>\n",
       "</table>\n",
       "<p>8 rows × 37 columns</p>\n",
       "</div>"
      ],
      "text/plain": [
       "       MSSubClass  LotFrontage  LotArea  OverallQual  OverallCond  YearBuilt  \\\n",
       "count    1,460.00     1,460.00 1,460.00     1,460.00     1,460.00   1,460.00   \n",
       "mean         3.64         4.04    21.16         1.82         1.77      12.54   \n",
       "std          0.87         0.42     3.82         0.14         0.12       0.06   \n",
       "min          2.71         2.76    10.91         1.00         1.00      12.32   \n",
       "25%          2.71         3.91    19.62         1.71         1.71      12.50   \n",
       "50%          3.68         3.98    21.16         1.82         1.71      12.54   \n",
       "75%          4.12         4.29    22.64         1.91         1.82      12.60   \n",
       "max          5.75         6.79    59.93         2.15         2.08      12.62   \n",
       "\n",
       "       YearRemodAdd  MasVnrArea  BsmtFinSF1  BsmtFinSF2  ...  WoodDeckSF  \\\n",
       "count      1,460.00    1,460.00    1,460.00    1,460.00  ...    1,460.00   \n",
       "mean          12.57        2.40        5.61        0.80  ...        2.69   \n",
       "std            0.04        3.08        4.18        2.30  ...        2.90   \n",
       "min           12.49        0.00        0.00        0.00  ...        0.00   \n",
       "25%           12.53        0.00        0.00        0.00  ...        0.00   \n",
       "50%           12.59        0.00        7.27        0.00  ...        0.00   \n",
       "75%           12.61        5.48        8.93        0.00  ...        5.52   \n",
       "max           12.62       11.70       17.80       11.38  ...        9.50   \n",
       "\n",
       "       OpenPorchSF  EnclosedPorch  3SsnPorch  ScreenPorch  PoolArea  MiscVal  \\\n",
       "count     1,460.00       1,460.00   1,460.00     1,460.00  1,460.00 1,460.00   \n",
       "mean          2.28           0.74       0.09         0.45      0.04     0.33   \n",
       "std           2.20           1.85       0.74         1.54      0.57     1.84   \n",
       "min           0.00           0.00       0.00         0.00      0.00     0.00   \n",
       "25%           0.00           0.00       0.00         0.00      0.00     0.00   \n",
       "50%           2.92           0.00       0.00         0.00      0.00     0.00   \n",
       "75%           4.08           0.00       0.00         0.00      0.00     0.00   \n",
       "max           8.18           8.20       7.98         7.83      9.04    24.93   \n",
       "\n",
       "        MoSold   YrSold  SalePrice  \n",
       "count 1,460.00 1,460.00   1,460.00  \n",
       "mean      1.80    12.62      55.53  \n",
       "std       0.29     0.00       7.52  \n",
       "min       1.00    12.61      32.68  \n",
       "25%       1.71    12.61      50.65  \n",
       "50%       1.82    12.62      54.63  \n",
       "75%       2.00    12.62      59.81  \n",
       "max       2.29    12.62      91.06  \n",
       "\n",
       "[8 rows x 37 columns]"
      ]
     },
     "execution_count": 15,
     "metadata": {},
     "output_type": "execute_result"
    }
   ],
   "source": [
    "house_prices.describe()"
   ]
  },
  {
   "cell_type": "markdown",
   "metadata": {
    "Collapsed": "false"
   },
   "source": [
    "Fashion mnist contains only pixel values of 28*28 images. I would be meaningless if I call .describe on it."
   ]
  },
  {
   "cell_type": "code",
   "execution_count": 16,
   "metadata": {
    "Collapsed": "false"
   },
   "outputs": [
    {
     "data": {
      "text/html": [
       "<div>\n",
       "<style scoped>\n",
       "    .dataframe tbody tr th:only-of-type {\n",
       "        vertical-align: middle;\n",
       "    }\n",
       "\n",
       "    .dataframe tbody tr th {\n",
       "        vertical-align: top;\n",
       "    }\n",
       "\n",
       "    .dataframe thead th {\n",
       "        text-align: right;\n",
       "    }\n",
       "</style>\n",
       "<table border=\"1\" class=\"dataframe\">\n",
       "  <thead>\n",
       "    <tr style=\"text-align: right;\">\n",
       "      <th></th>\n",
       "      <th>Feature count</th>\n",
       "    </tr>\n",
       "  </thead>\n",
       "  <tbody>\n",
       "    <tr>\n",
       "      <th>titanic</th>\n",
       "      <td>8</td>\n",
       "    </tr>\n",
       "    <tr>\n",
       "      <th>house_prices</th>\n",
       "      <td>79</td>\n",
       "    </tr>\n",
       "    <tr>\n",
       "      <th>fashion_mnist</th>\n",
       "      <td>784</td>\n",
       "    </tr>\n",
       "  </tbody>\n",
       "</table>\n",
       "</div>"
      ],
      "text/plain": [
       "               Feature count\n",
       "titanic                    8\n",
       "house_prices              79\n",
       "fashion_mnist            784"
      ]
     },
     "execution_count": 16,
     "metadata": {},
     "output_type": "execute_result"
    }
   ],
   "source": [
    "prop = pd.DataFrame(index=[\"titanic\",\"house_prices\",\"fashion_mnist\"])\n",
    "prop[\"Feature count\"] = [titanic.shape[1]-1,house_prices.shape[1]-1,fashion_mnist.shape[1]-1]\n",
    "prop"
   ]
  },
  {
   "cell_type": "markdown",
   "metadata": {
    "Collapsed": "false"
   },
   "source": [
    "I added \"-1\" because one of the features will be target feature."
   ]
  },
  {
   "cell_type": "markdown",
   "metadata": {
    "Collapsed": "false"
   },
   "source": [
    "# Models"
   ]
  },
  {
   "cell_type": "markdown",
   "metadata": {
    "Collapsed": "false"
   },
   "source": [
    "All models will be defined in this section. As same models will be used in multiple times, definitions may help save time for us. Check definitions if you have detailed informations about how algorithms used(and with what hyperparameters). Necessary libraries are indicated at the top of the definations."
   ]
  },
  {
   "cell_type": "markdown",
   "metadata": {
    "Collapsed": "false"
   },
   "source": [
    "## Linear Regression"
   ]
  },
  {
   "cell_type": "code",
   "execution_count": 92,
   "metadata": {
    "Collapsed": "false"
   },
   "outputs": [],
   "source": [
    "# from sklearn import linear_model\n",
    "# from sklearn.model_selection import RandomizedSearchCV\n",
    "\n",
    "def sklearn_linreg(xtr, xte, ytr, yte, reg=\"none\"):\n",
    "    if reg ==\"none\":\n",
    "        lrm = linear_model.LinearRegression()\n",
    "        lrm.fit(xtr,ytr)\n",
    "        rmse = mean_squared_error(yte**3,lrm.predict(xte)**3)**(1/2)\n",
    "        print(\"Mean squared error on test set:\",rmse)\n",
    "        return rmse\n",
    "    \n",
    "    elif reg ==\"Ridge\":\n",
    "        parameters = {'alpha':[10**x for x in range(-10,10)]\n",
    "                     }\n",
    "        lrm = linear_model.Ridge(random_state=0,max_iter=1000)\n",
    "        rand_cv = RandomizedSearchCV(lrm, \n",
    "                                     param_distributions=parameters,\n",
    "                                     n_iter=30,\n",
    "                                     random_state=0)\n",
    "        rand_cv.fit(xtr,ytr)\n",
    "        rmse = mean_squared_error(yte**3,rand_cv.best_estimator_.predict(xte)**3)**(1/2)\n",
    "        print(\"Mean squared error on test set:\",rmse)\n",
    "        return rmse\n",
    "    \n",
    "    elif reg ==\"Lasso\":\n",
    "        parameters = {'alpha':[10**x for x in range(-10,10)],\n",
    "                     \"selection\":[\"cyclic\", \"random\"]\n",
    "                    }\n",
    "        \n",
    "        lrm = linear_model.Lasso(random_state=0,\n",
    "                                 max_iter=1000)\n",
    "        \n",
    "        rand_cv = RandomizedSearchCV(lrm,\n",
    "                                     param_distributions=parameters,\n",
    "                                     n_iter=30,\n",
    "                                     random_state=0)\n",
    "        \n",
    "        rand_cv.fit(xtr,ytr)\n",
    "        rmse = mean_squared_error(yte**3,rand_cv.best_estimator_.predict(xte)**3)**(1/2)\n",
    "        print(\"Mean squared error on test set:\",rmse)\n",
    "        return rmse\n",
    "\n",
    "    elif reg ==\"ElasticNet\":\n",
    "        parameters = {'alpha':[10**x for x in range(-10,10)],\n",
    "                     \"selection\":[\"cyclic\", \"random\"],\n",
    "                      \"l1_ratio\":[i/10 for i in range(0,10)]\n",
    "                    }\n",
    "        \n",
    "        lrm = linear_model.ElasticNet(random_state=0,max_iter=1000)\n",
    "        \n",
    "        rand_cv = RandomizedSearchCV(lrm,\n",
    "                                     param_distributions=parameters,\n",
    "                                     n_iter=30,\n",
    "                                     random_state=0)\n",
    "        \n",
    "        rand_cv.fit(xtr,ytr)\n",
    "        rmse = mean_squared_error(yte**3,rand_cv.best_estimator_.predict(xte)**3)**(1/2)\n",
    "        print(\"Mean squared error on test set:\",rmse)\n",
    "        return rmse"
   ]
  },
  {
   "cell_type": "code",
   "execution_count": 193,
   "metadata": {
    "Collapsed": "false"
   },
   "outputs": [],
   "source": [
    "# import xgboost as xgb\n",
    "def xgb_linreg(xtr, xte, ytr, yte,eta=0.3,max_depth =100):\n",
    "    xtr.columns= [x for x in range(0,xtr.shape[1])]\n",
    "    xte.columns= [x for x in range(0,xte.shape[1])]\n",
    "    xgb_model     = xgb.XGBRegressor(\n",
    "                            as_pandas=True,\n",
    "                            seed=0,\n",
    "                            eta=eta,\n",
    "        max_depth =max_depth \n",
    "                           )\n",
    "    xgb_model.fit(xtr,ytr)\n",
    "    yhat = xgb_model.predict(xte)\n",
    "    rmse = np.sqrt(mean_squared_error(yte**3, yhat**3))\n",
    "    return rmse"
   ]
  },
  {
   "cell_type": "code",
   "execution_count": 151,
   "metadata": {
    "Collapsed": "false"
   },
   "outputs": [],
   "source": [
    "# import lgboost as lgb\n",
    "def lgb_linreg(xtr, xte, ytr, yte):\n",
    "    xtr.columns= [x for x in range(0,xtr.shape[1])]\n",
    "    xte.columns= [x for x in range(0,xte.shape[1])]\n",
    "\n",
    "    lgb_model     = lgb.LGBMRegressor(\n",
    "                            as_pandas=True,\n",
    "                            seed=0\n",
    "                           )\n",
    "    lgb_model.fit(xtr,ytr)\n",
    "    yhat = lgb_model.predict(xte)\n",
    "    rmse = np.sqrt(mean_squared_error(yte**3, yhat**3))\n",
    "    return rmse"
   ]
  },
  {
   "cell_type": "code",
   "execution_count": 95,
   "metadata": {
    "Collapsed": "false"
   },
   "outputs": [],
   "source": [
    "def decision_tree_reg(xtr,xte,ytr,yte,max_depth=5):\n",
    "    tree_model = DecisionTreeRegressor(\n",
    "        max_depth=max_depth,\n",
    "        random_state=0\n",
    "    )\n",
    "    tree_model.fit(xtr,ytr)\n",
    "    yhat=tree_model.predict(xte)\n",
    "    mse=mean_squared_error(yhat**3,yte**3)\n",
    "    rmse = mse**(1/2)\n",
    "    return rmse"
   ]
  },
  {
   "cell_type": "code",
   "execution_count": 218,
   "metadata": {
    "Collapsed": "false"
   },
   "outputs": [],
   "source": [
    "def random_forest_reg(xtr,xte,ytr,yte,n_estimators=100):\n",
    "    tree_model = RandomForestRegressor(\n",
    "        n_estimators=n_estimators,\n",
    "        random_state=0\n",
    "    )\n",
    "    tree_model.fit(xtr,ytr)\n",
    "    yhat=tree_model.predict(xte)\n",
    "    mse=mean_squared_error(yhat**3,yte**3)\n",
    "    rmse = mse**(1/2)\n",
    "    return rmse"
   ]
  },
  {
   "cell_type": "markdown",
   "metadata": {
    "Collapsed": "true"
   },
   "source": [
    "## Classification"
   ]
  },
  {
   "cell_type": "code",
   "execution_count": 97,
   "metadata": {
    "Collapsed": "false"
   },
   "outputs": [],
   "source": [
    "def sklearn_logreg(xtr, xte, ytr, yte, penalty=\"l2\",C=10,solver=\"lbfgs\"):\n",
    "    lrm = linear_model.LogisticRegression(solver=solver,penalty = penalty,C=C,)\n",
    "    lrm.fit(xtr,ytr)\n",
    "    acc = lrm.score(xte,yte)\n",
    "    print(\"Accuracy on test set:\",acc)\n",
    "    return acc\n"
   ]
  },
  {
   "cell_type": "code",
   "execution_count": 98,
   "metadata": {
    "Collapsed": "false"
   },
   "outputs": [],
   "source": [
    "def KNN(xtr, xte, ytr, yte, k=3):\n",
    "    knn_model= KNeighborsClassifier(n_neighbors=k)\n",
    "    knn_model.fit(xtr, ytr)\n",
    "    print(\"Accuracy on test set with KNN algorithm:\",knn_model.score(xte,yte))\n",
    "    return knn_model.score(xte,yte)"
   ]
  },
  {
   "cell_type": "code",
   "execution_count": 99,
   "metadata": {
    "Collapsed": "false"
   },
   "outputs": [],
   "source": [
    "def decision_tree_classify(xtr,xte,ytr,yte,criterion=\"entropy\",max_features=5,max_depth=5):\n",
    "    tree_model = DecisionTreeClassifier(\n",
    "        criterion=criterion,\n",
    "        max_features=max_features,\n",
    "        max_depth=max_depth,\n",
    "        random_state = 0\n",
    "    )\n",
    "    tree_model.fit(xtr,ytr)\n",
    "    acc=tree_model.score(xte,yte)\n",
    "    return acc"
   ]
  },
  {
   "cell_type": "code",
   "execution_count": 100,
   "metadata": {
    "Collapsed": "false"
   },
   "outputs": [],
   "source": [
    "def random_forest_classify(xtr,xte,ytr,yte,criterion=\"entropy\",max_features=5,max_depth=5):\n",
    "    forest_model = RandomForestClassifier(\n",
    "        criterion=criterion,\n",
    "        max_features=max_features,\n",
    "        max_depth=max_depth,\n",
    "        random_state = 0\n",
    "    )\n",
    "    forest_model.fit(xtr,ytr)\n",
    "    acc=forest_model.score(xte,yte)\n",
    "    return acc"
   ]
  },
  {
   "cell_type": "code",
   "execution_count": 101,
   "metadata": {
    "Collapsed": "false"
   },
   "outputs": [],
   "source": [
    "def svm(xtr,xte,ytr,yte,C=4):\n",
    "\n",
    "    svc = SVC(kernel='linear', C=C)\n",
    "    svc.fit(xtr,ytr)\n",
    "    yhat=svc.predict(xte)\n",
    "    acc= accuracy_score(yte,yhat)\n",
    "    return acc"
   ]
  },
  {
   "cell_type": "code",
   "execution_count": 104,
   "metadata": {
    "Collapsed": "false"
   },
   "outputs": [],
   "source": [
    "def xgb_classification(xtr,xte,ytr,yte,obj,num_class,max_depth=3):\n",
    "    xtr.columns= [x for x in range(0,xtr.shape[1])]\n",
    "    xte.columns= [x for x in range(0,xte.shape[1])]\n",
    "    params = {\"objective\":obj,\n",
    "              \"max_depth\":max_depth,\n",
    "              \"silent\":1,\n",
    "              \"num_class\":num_class}\n",
    "    dmatr = xgb.DMatrix(data=xtr, label=ytr)\n",
    "    model_cv = xgb.cv(dtrain=dmatr,\n",
    "                      params=params,\n",
    "                      nfold=3, \n",
    "                      num_boost_round=10,\n",
    "                      as_pandas=True,\n",
    "                      seed=0)\n",
    "    print('Accuracy on test set by XGB : {:.3f}'.format((1-model_cv.iloc[:,2]).max()))\n",
    "    return (1-model_cv.iloc[:,2]).max()"
   ]
  },
  {
   "cell_type": "code",
   "execution_count": 105,
   "metadata": {
    "Collapsed": "false"
   },
   "outputs": [],
   "source": [
    "def lgb_classification(xtr,xte,ytr,yte,obj,num_class,metric,binary=False):\n",
    "    params = {\n",
    "          'objective' : obj,\n",
    "          \"metric\":metric,\n",
    "          \"num_class\":num_class}\n",
    "    dtr = lgb.Dataset(xtr, label=ytr)\n",
    "    lgb_model = lgb.train(params,dtr,num_boost_round=50)\n",
    "    yhat= lgb_model.predict(xte)\n",
    "    \n",
    "    if binary==False:\n",
    "        for i in range(yhat.shape[0]):\n",
    "            maxind = np.argmax(yhat[i,:])\n",
    "            yhat[i,:] = 0\n",
    "            yhat[i,maxind] = 1\n",
    "        yte=pd.get_dummies(yte)\n",
    "    elif binary==True:\n",
    "            yhat = [1 if x>0.5 else 0 for x in yhat]\n",
    "            \n",
    "    \n",
    "    return accuracy_score(yhat,yte)"
   ]
  },
  {
   "cell_type": "markdown",
   "metadata": {
    "Collapsed": "true"
   },
   "source": [
    "## Neural Networks\n"
   ]
  },
  {
   "cell_type": "code",
   "execution_count": 106,
   "metadata": {
    "Collapsed": "false"
   },
   "outputs": [],
   "source": [
    "def neural_net(xtr,xte,ytr,yte,epochnum=100,optimizer=\"adam\",denses=[64,128,256,1],dropout=0.2,binary=True):\n",
    "    model = tf.keras.Sequential()\n",
    "    m = xtr.shape[1]\n",
    "    model.add(tf.keras.layers.Dense(denses[0], activation='relu', input_shape=(m,)))\n",
    "    flag=0\n",
    "    for dense in denses[1:-1]:\n",
    "        model.add(tf.keras.layers.Dense(dense, activation='relu'))\n",
    "        if dense==np.max(denses) and flag==0:\n",
    "            model.add(tf.keras.layers.Dropout(dropout))\n",
    "            flag+=1\n",
    "    if binary==True:\n",
    "        model.add(tf.keras.layers.Dense(denses[-1],activation=\"sigmoid\"))\n",
    "        model.compile(optimizer=optimizer, loss=\"binary_crossentropy\", metrics=['accuracy'])\n",
    "    elif binary==False:\n",
    "        model.add(tf.keras.layers.Dense(denses[-1],activation=\"softmax\"))\n",
    "        model.compile(optimizer=optimizer, loss=\"categorical_crossentropy\", metrics=['accuracy'])\n",
    "        \n",
    "    test_accs=[]\n",
    "  \n",
    "    history= model.fit(xtr,ytr,validation_split=0.3,epochs=epochnum,verbose=0)\n",
    "    test_loss, test_acc = model.evaluate(xte, yte, verbose=0)\n",
    "    print(\"Sizes of layers:\",denses)\n",
    "    return history,test_acc"
   ]
  },
  {
   "cell_type": "markdown",
   "metadata": {
    "Collapsed": "false"
   },
   "source": [
    "# Models on Datasets"
   ]
  },
  {
   "cell_type": "markdown",
   "metadata": {
    "Collapsed": "false"
   },
   "source": [
    "Error-Accuracy values and execution times will be stored in a dataframe(named \"infotable\")"
   ]
  },
  {
   "cell_type": "code",
   "execution_count": 264,
   "metadata": {
    "Collapsed": "false"
   },
   "outputs": [],
   "source": [
    "infotable_linreg= pd.DataFrame(columns=[\"Rmse\",\"Execution Time\"],index=[\"Sklearn\",\"Ridge\",\"Lasso\",\"ElasticNet\",\"LGB\",\"XGB\",\"Random Forest\",\"Decision Tree\"])\n",
    "infotable_logreg_bin= pd.DataFrame(columns=[\"Accuracy\",\"Execution Time\"],index=[\"Sklearn\",\"LGB\",\"XGB\",\"SVM\",\"Random Forest\",\"Decision Tree\",\"Neural Net\"])\n",
    "infotable_logreg_multi= pd.DataFrame(columns=[\"Accuracy\",\"Execution Time\"],index=[\"Sklearn\",\"Random Forest\",\"Decision Tree\",\"LGB\",\"XGB\",\"Neural Net\"])"
   ]
  },
  {
   "cell_type": "markdown",
   "metadata": {
    "Collapsed": "true"
   },
   "source": [
    "## Linear Regression (on House Prices dataset)"
   ]
  },
  {
   "cell_type": "markdown",
   "metadata": {
    "Collapsed": "false"
   },
   "source": [
    "### Dataset initialize"
   ]
  },
  {
   "cell_type": "code",
   "execution_count": 265,
   "metadata": {
    "Collapsed": "false"
   },
   "outputs": [],
   "source": [
    "xtr, xte, ytr, yte = train_test_split(house_prices_transformed.drop(columns=\"SalePrice\"),house_prices_transformed[\"SalePrice\"],test_size=0.2, random_state=0)"
   ]
  },
  {
   "cell_type": "markdown",
   "metadata": {
    "Collapsed": "false"
   },
   "source": [
    "### Sklearn"
   ]
  },
  {
   "cell_type": "markdown",
   "metadata": {
    "Collapsed": "false"
   },
   "source": [
    "RandomSearch used for Sklearn linear regression models, no need to have extra tuning."
   ]
  },
  {
   "cell_type": "code",
   "execution_count": 266,
   "metadata": {
    "Collapsed": "false"
   },
   "outputs": [
    {
     "name": "stdout",
     "output_type": "stream",
     "text": [
      "Mean squared error on test set: 60414.536899288025\n"
     ]
    }
   ],
   "source": [
    "tic=time.time()\n",
    "infotable_linreg.iloc[0,0]=sklearn_linreg(xtr, xte, ytr, yte)\n",
    "infotable_linreg.iloc[0,1]=toc(tic)"
   ]
  },
  {
   "cell_type": "code",
   "execution_count": 267,
   "metadata": {
    "Collapsed": "false"
   },
   "outputs": [
    {
     "name": "stdout",
     "output_type": "stream",
     "text": [
      "Mean squared error on test set: 46074.889544787206\n"
     ]
    }
   ],
   "source": [
    "tic=time.time()\n",
    "infotable_linreg.iloc[1,0]=sklearn_linreg(xtr, xte, ytr, yte,reg =\"Ridge\")\n",
    "infotable_linreg.iloc[1,1]=toc(tic)"
   ]
  },
  {
   "cell_type": "code",
   "execution_count": 268,
   "metadata": {
    "Collapsed": "false"
   },
   "outputs": [
    {
     "name": "stdout",
     "output_type": "stream",
     "text": [
      "Mean squared error on test set: 44428.76275975098\n"
     ]
    }
   ],
   "source": [
    "tic=time.time()\n",
    "infotable_linreg.iloc[2,0]=sklearn_linreg(xtr, xte, ytr, yte,reg =\"Lasso\")\n",
    "infotable_linreg.iloc[2,1]=toc(tic)"
   ]
  },
  {
   "cell_type": "code",
   "execution_count": 269,
   "metadata": {
    "Collapsed": "false"
   },
   "outputs": [
    {
     "name": "stdout",
     "output_type": "stream",
     "text": [
      "Mean squared error on test set: 42782.24527837342\n"
     ]
    }
   ],
   "source": [
    "tic=time.time()\n",
    "infotable_linreg.iloc[3,0]=sklearn_linreg(xtr, xte, ytr, yte,reg =\"ElasticNet\")\n",
    "infotable_linreg.iloc[3,1]=toc(tic)"
   ]
  },
  {
   "cell_type": "markdown",
   "metadata": {
    "Collapsed": "false"
   },
   "source": [
    "### LGBoost"
   ]
  },
  {
   "cell_type": "code",
   "execution_count": 270,
   "metadata": {
    "Collapsed": "false"
   },
   "outputs": [],
   "source": [
    "tic=time.time()\n",
    "infotable_linreg.iloc[4,0]=lgb_linreg(xtr, xte, ytr, yte)\n",
    "infotable_linreg.iloc[4,1]=toc(tic)"
   ]
  },
  {
   "cell_type": "markdown",
   "metadata": {
    "Collapsed": "false"
   },
   "source": [
    "### XGBoost"
   ]
  },
  {
   "cell_type": "code",
   "execution_count": 271,
   "metadata": {
    "Collapsed": "false"
   },
   "outputs": [],
   "source": [
    "tic=time.time()\n",
    "infotable_linreg.iloc[5,0]=xgb_linreg(xtr, xte, ytr, yte,eta=0.2,max_depth =100)\n",
    "infotable_linreg.iloc[5,1]=toc(tic)"
   ]
  },
  {
   "cell_type": "markdown",
   "metadata": {
    "Collapsed": "false"
   },
   "source": [
    "### Random Forest"
   ]
  },
  {
   "cell_type": "code",
   "execution_count": 272,
   "metadata": {
    "Collapsed": "false"
   },
   "outputs": [],
   "source": [
    "tic=time.time()\n",
    "infotable_linreg.iloc[6,0]=random_forest_reg(xtr,xte,ytr,yte)\n",
    "infotable_linreg.iloc[6,1]=toc(tic)"
   ]
  },
  {
   "cell_type": "markdown",
   "metadata": {
    "Collapsed": "false"
   },
   "source": [
    "### Decision Tree"
   ]
  },
  {
   "cell_type": "code",
   "execution_count": 273,
   "metadata": {
    "Collapsed": "false"
   },
   "outputs": [],
   "source": [
    "tic=time.time()\n",
    "infotable_linreg.iloc[7,0]=decision_tree_reg(xtr,xte,ytr,yte,max_depth=10)\n",
    "infotable_linreg.iloc[7,1]=toc(tic)"
   ]
  },
  {
   "cell_type": "code",
   "execution_count": 274,
   "metadata": {
    "Collapsed": "false"
   },
   "outputs": [
    {
     "data": {
      "text/html": [
       "<div>\n",
       "<style scoped>\n",
       "    .dataframe tbody tr th:only-of-type {\n",
       "        vertical-align: middle;\n",
       "    }\n",
       "\n",
       "    .dataframe tbody tr th {\n",
       "        vertical-align: top;\n",
       "    }\n",
       "\n",
       "    .dataframe thead th {\n",
       "        text-align: right;\n",
       "    }\n",
       "</style>\n",
       "<table border=\"1\" class=\"dataframe\">\n",
       "  <thead>\n",
       "    <tr style=\"text-align: right;\">\n",
       "      <th></th>\n",
       "      <th>Rmse</th>\n",
       "      <th>Execution Time</th>\n",
       "    </tr>\n",
       "  </thead>\n",
       "  <tbody>\n",
       "    <tr>\n",
       "      <th>Sklearn</th>\n",
       "      <td>60,414.54</td>\n",
       "      <td>0.02</td>\n",
       "    </tr>\n",
       "    <tr>\n",
       "      <th>Ridge</th>\n",
       "      <td>46,074.89</td>\n",
       "      <td>0.78</td>\n",
       "    </tr>\n",
       "    <tr>\n",
       "      <th>Lasso</th>\n",
       "      <td>44,428.76</td>\n",
       "      <td>8.18</td>\n",
       "    </tr>\n",
       "    <tr>\n",
       "      <th>ElasticNet</th>\n",
       "      <td>42,782.25</td>\n",
       "      <td>11.09</td>\n",
       "    </tr>\n",
       "    <tr>\n",
       "      <th>LGB</th>\n",
       "      <td>30,143.54</td>\n",
       "      <td>0.17</td>\n",
       "    </tr>\n",
       "    <tr>\n",
       "      <th>XGB</th>\n",
       "      <td>30,621.98</td>\n",
       "      <td>1.20</td>\n",
       "    </tr>\n",
       "    <tr>\n",
       "      <th>Random Forest</th>\n",
       "      <td>32,999.11</td>\n",
       "      <td>1.86</td>\n",
       "    </tr>\n",
       "    <tr>\n",
       "      <th>Decision Tree</th>\n",
       "      <td>39,306.78</td>\n",
       "      <td>0.03</td>\n",
       "    </tr>\n",
       "  </tbody>\n",
       "</table>\n",
       "</div>"
      ],
      "text/plain": [
       "                   Rmse Execution Time\n",
       "Sklearn       60,414.54           0.02\n",
       "Ridge         46,074.89           0.78\n",
       "Lasso         44,428.76           8.18\n",
       "ElasticNet    42,782.25          11.09\n",
       "LGB           30,143.54           0.17\n",
       "XGB           30,621.98           1.20\n",
       "Random Forest 32,999.11           1.86\n",
       "Decision Tree 39,306.78           0.03"
      ]
     },
     "execution_count": 274,
     "metadata": {},
     "output_type": "execute_result"
    }
   ],
   "source": [
    "infotable_linreg"
   ]
  },
  {
   "cell_type": "markdown",
   "metadata": {
    "Collapsed": "true"
   },
   "source": [
    "## Binary Classification (on Titanic dataset)"
   ]
  },
  {
   "cell_type": "markdown",
   "metadata": {
    "Collapsed": "true"
   },
   "source": [
    "### Dataset Initialize"
   ]
  },
  {
   "cell_type": "code",
   "execution_count": 239,
   "metadata": {
    "Collapsed": "false"
   },
   "outputs": [],
   "source": [
    "xtr, xte, ytr, yte = train_test_split(titanic_transformed.drop(columns=\"Survived\"),titanic_transformed[\"Survived\"],test_size=0.2, random_state=0)"
   ]
  },
  {
   "cell_type": "markdown",
   "metadata": {
    "Collapsed": "false"
   },
   "source": [
    "### Sklearn"
   ]
  },
  {
   "cell_type": "code",
   "execution_count": 240,
   "metadata": {
    "Collapsed": "false"
   },
   "outputs": [
    {
     "name": "stdout",
     "output_type": "stream",
     "text": [
      "Accuracy on test set: 0.8212290502793296\n"
     ]
    }
   ],
   "source": [
    "tic=time.time()\n",
    "infotable_logreg_bin.iloc[0,0]= sklearn_logreg(xtr, xte, ytr, yte,  penalty ='l2',C=100)\n",
    "infotable_logreg_bin.iloc[0,1]= toc(tic)"
   ]
  },
  {
   "cell_type": "markdown",
   "metadata": {
    "Collapsed": "true"
   },
   "source": [
    "### LGBoost"
   ]
  },
  {
   "cell_type": "code",
   "execution_count": 241,
   "metadata": {
    "Collapsed": "false"
   },
   "outputs": [],
   "source": [
    "tic=time.time()\n",
    "infotable_logreg_bin.iloc[1,0]= lgb_classification(xtr,xte,ytr,yte,obj=\"binary\",num_class=1,metric=\"binary_error\",binary=True)\n",
    "infotable_logreg_bin.iloc[1,1]= toc(tic)"
   ]
  },
  {
   "cell_type": "markdown",
   "metadata": {
    "Collapsed": "true"
   },
   "source": [
    "### XGBoost"
   ]
  },
  {
   "cell_type": "code",
   "execution_count": 242,
   "metadata": {
    "Collapsed": "false"
   },
   "outputs": [
    {
     "name": "stdout",
     "output_type": "stream",
     "text": [
      "Accuracy on test set by XGB : 0.823\n"
     ]
    }
   ],
   "source": [
    "tic=time.time()\n",
    "infotable_logreg_bin.iloc[2,0]=xgb_classification(xtr,xte,ytr,yte,obj=\"binary:logistic\",num_class=1)\n",
    "infotable_logreg_bin.iloc[2,1]= toc(tic)"
   ]
  },
  {
   "cell_type": "markdown",
   "metadata": {
    "Collapsed": "false"
   },
   "source": [
    "### Support Vector Machine"
   ]
  },
  {
   "cell_type": "code",
   "execution_count": 243,
   "metadata": {
    "Collapsed": "false"
   },
   "outputs": [],
   "source": [
    "tic=time.time()\n",
    "infotable_logreg_bin.iloc[3,0]=svm(xtr,xte,ytr,yte,C=20)\n",
    "infotable_logreg_bin.iloc[3,1]= toc(tic)"
   ]
  },
  {
   "cell_type": "markdown",
   "metadata": {
    "Collapsed": "true"
   },
   "source": [
    "### Random Forest"
   ]
  },
  {
   "cell_type": "code",
   "execution_count": 244,
   "metadata": {
    "Collapsed": "false"
   },
   "outputs": [],
   "source": [
    "tic=time.time()\n",
    "infotable_logreg_bin.iloc[4,0]= random_forest_classify(xtr,xte,ytr,yte,max_depth=100,max_features=4)\n",
    "infotable_logreg_bin.iloc[4,1]= toc(tic)"
   ]
  },
  {
   "cell_type": "markdown",
   "metadata": {
    "Collapsed": "true"
   },
   "source": [
    "### Decision Tree"
   ]
  },
  {
   "cell_type": "code",
   "execution_count": 245,
   "metadata": {
    "Collapsed": "false"
   },
   "outputs": [],
   "source": [
    "tic=time.time()\n",
    "infotable_logreg_bin.iloc[5,0]= decision_tree_classify(xtr,xte,ytr,yte,max_depth=5,max_features=5)\n",
    "infotable_logreg_bin.iloc[5,1]= toc(tic)"
   ]
  },
  {
   "cell_type": "code",
   "execution_count": 247,
   "metadata": {
    "Collapsed": "false"
   },
   "outputs": [
    {
     "data": {
      "text/html": [
       "<div>\n",
       "<style scoped>\n",
       "    .dataframe tbody tr th:only-of-type {\n",
       "        vertical-align: middle;\n",
       "    }\n",
       "\n",
       "    .dataframe tbody tr th {\n",
       "        vertical-align: top;\n",
       "    }\n",
       "\n",
       "    .dataframe thead th {\n",
       "        text-align: right;\n",
       "    }\n",
       "</style>\n",
       "<table border=\"1\" class=\"dataframe\">\n",
       "  <thead>\n",
       "    <tr style=\"text-align: right;\">\n",
       "      <th></th>\n",
       "      <th>Accuracy</th>\n",
       "      <th>Execution Time</th>\n",
       "    </tr>\n",
       "  </thead>\n",
       "  <tbody>\n",
       "    <tr>\n",
       "      <th>Sklearn</th>\n",
       "      <td>0.82</td>\n",
       "      <td>0.02</td>\n",
       "    </tr>\n",
       "    <tr>\n",
       "      <th>LGB</th>\n",
       "      <td>0.86</td>\n",
       "      <td>0.05</td>\n",
       "    </tr>\n",
       "    <tr>\n",
       "      <th>XGB</th>\n",
       "      <td>0.82</td>\n",
       "      <td>0.02</td>\n",
       "    </tr>\n",
       "    <tr>\n",
       "      <th>SVM</th>\n",
       "      <td>0.79</td>\n",
       "      <td>2.31</td>\n",
       "    </tr>\n",
       "    <tr>\n",
       "      <th>Random Forest</th>\n",
       "      <td>0.87</td>\n",
       "      <td>0.16</td>\n",
       "    </tr>\n",
       "    <tr>\n",
       "      <th>Decision Tree</th>\n",
       "      <td>0.84</td>\n",
       "      <td>0.00</td>\n",
       "    </tr>\n",
       "    <tr>\n",
       "      <th>Neural Net</th>\n",
       "      <td>NaN</td>\n",
       "      <td>NaN</td>\n",
       "    </tr>\n",
       "  </tbody>\n",
       "</table>\n",
       "</div>"
      ],
      "text/plain": [
       "              Accuracy Execution Time\n",
       "Sklearn           0.82           0.02\n",
       "LGB               0.86           0.05\n",
       "XGB               0.82           0.02\n",
       "SVM               0.79           2.31\n",
       "Random Forest     0.87           0.16\n",
       "Decision Tree     0.84           0.00\n",
       "Neural Net         NaN            NaN"
      ]
     },
     "execution_count": 247,
     "metadata": {},
     "output_type": "execute_result"
    }
   ],
   "source": [
    "infotable_logreg_bin"
   ]
  },
  {
   "cell_type": "markdown",
   "metadata": {
    "Collapsed": "true"
   },
   "source": [
    "### Neural Net"
   ]
  },
  {
   "cell_type": "code",
   "execution_count": 246,
   "metadata": {
    "Collapsed": "false"
   },
   "outputs": [
    {
     "name": "stdout",
     "output_type": "stream",
     "text": [
      "Sizes of layers: [32, 64, 1]\n"
     ]
    },
    {
     "data": {
      "image/png": "[encoded data removed]",
      "text/plain": [
       "<Figure size 432x288 with 1 Axes>"
      ]
     },
     "metadata": {
      "needs_background": "light"
     },
     "output_type": "display_data"
    },
    {
     "data": {
      "text/plain": [
       "0.82122904"
      ]
     },
     "execution_count": 246,
     "metadata": {},
     "output_type": "execute_result"
    }
   ],
   "source": [
    "history,testacc = neural_net(xtr,xte,ytr,yte,binary=True,denses=[32,64,1],dropout=0.5,epochnum=1000)\n",
    "\n",
    "plt.plot(history.history['accuracy'])\n",
    "plt.plot(history.history['val_accuracy'])\n",
    "plt.title('model accuracy')\n",
    "plt.ylabel('accuracy')\n",
    "plt.xlabel('epoch')\n",
    "plt.legend(['train', 'test'], loc='upper left')\n",
    "plt.show()\n",
    "testacc"
   ]
  },
  {
   "cell_type": "code",
   "execution_count": 248,
   "metadata": {
    "Collapsed": "false"
   },
   "outputs": [
    {
     "name": "stdout",
     "output_type": "stream",
     "text": [
      "Sizes of layers: [32, 64, 1]\n"
     ]
    },
    {
     "data": {
      "image/png": "[encoded data removed]",
      "text/plain": [
       "<Figure size 432x288 with 1 Axes>"
      ]
     },
     "metadata": {
      "needs_background": "light"
     },
     "output_type": "display_data"
    },
    {
     "data": {
      "text/plain": [
       "0.82681566"
      ]
     },
     "execution_count": 248,
     "metadata": {},
     "output_type": "execute_result"
    }
   ],
   "source": [
    "history,testacc = neural_net(xtr,xte,ytr,yte,binary=True,denses=[32,64,1],dropout=0.5,epochnum=500)\n",
    "\n",
    "plt.plot(history.history['accuracy'])\n",
    "plt.plot(history.history['val_accuracy'])\n",
    "plt.title('model accuracy')\n",
    "plt.ylabel('accuracy')\n",
    "plt.xlabel('epoch')\n",
    "plt.legend(['train', 'test'], loc='upper left')\n",
    "plt.show()\n",
    "testacc"
   ]
  },
  {
   "cell_type": "code",
   "execution_count": 49,
   "metadata": {
    "Collapsed": "false"
   },
   "outputs": [
    {
     "name": "stdout",
     "output_type": "stream",
     "text": [
      "Sizes of layers: [32, 64, 1]\n"
     ]
    },
    {
     "data": {
      "image/png": "[encoded data removed]",
      "text/plain": [
       "<Figure size 432x288 with 1 Axes>"
      ]
     },
     "metadata": {
      "needs_background": "light"
     },
     "output_type": "display_data"
    },
    {
     "data": {
      "text/plain": [
       "0.82681566"
      ]
     },
     "execution_count": 49,
     "metadata": {},
     "output_type": "execute_result"
    }
   ],
   "source": [
    "history,testacc = neural_net(xtr,xte,ytr,yte,binary=True,denses=[32,64,1],dropout=0.3,epochnum=500)\n",
    "\n",
    "plt.plot(history.history['accuracy'])\n",
    "plt.plot(history.history['val_accuracy'])\n",
    "plt.title('model accuracy')\n",
    "plt.ylabel('accuracy')\n",
    "plt.xlabel('epoch')\n",
    "plt.legend(['train', 'test'], loc='upper left')\n",
    "plt.show()\n",
    "testacc"
   ]
  },
  {
   "cell_type": "code",
   "execution_count": 50,
   "metadata": {
    "Collapsed": "false"
   },
   "outputs": [
    {
     "name": "stdout",
     "output_type": "stream",
     "text": [
      "Sizes of layers: [32, 64, 1]\n"
     ]
    },
    {
     "data": {
      "image/png": "[encoded data removed]",
      "text/plain": [
       "<Figure size 432x288 with 1 Axes>"
      ]
     },
     "metadata": {
      "needs_background": "light"
     },
     "output_type": "display_data"
    },
    {
     "data": {
      "text/plain": [
       "0.79888266"
      ]
     },
     "execution_count": 50,
     "metadata": {},
     "output_type": "execute_result"
    }
   ],
   "source": [
    "history,testacc = neural_net(xtr,xte,ytr,yte,binary=True,denses=[32,64,1],dropout=0,epochnum=100)\n",
    "\n",
    "plt.plot(history.history['accuracy'])\n",
    "plt.plot(history.history['val_accuracy'])\n",
    "plt.title('model accuracy')\n",
    "plt.ylabel('accuracy')\n",
    "plt.xlabel('epoch')\n",
    "plt.legend(['train', 'test'], loc='upper left')\n",
    "plt.show()\n",
    "testacc"
   ]
  },
  {
   "cell_type": "code",
   "execution_count": 249,
   "metadata": {
    "Collapsed": "false"
   },
   "outputs": [
    {
     "name": "stdout",
     "output_type": "stream",
     "text": [
      "Sizes of layers: [32, 64, 1]\n"
     ]
    },
    {
     "data": {
      "image/png": "[encoded data removed]",
      "text/plain": [
       "<Figure size 432x288 with 1 Axes>"
      ]
     },
     "metadata": {
      "needs_background": "light"
     },
     "output_type": "display_data"
    },
    {
     "data": {
      "text/plain": [
       "0.81005585"
      ]
     },
     "execution_count": 249,
     "metadata": {},
     "output_type": "execute_result"
    }
   ],
   "source": [
    "history,testacc = neural_net(xtr,xte,ytr,yte,binary=True,denses=[32,64,1],dropout=0.6,epochnum=300)\n",
    "\n",
    "plt.plot(history.history['accuracy'])\n",
    "plt.plot(history.history['val_accuracy'])\n",
    "plt.title('model accuracy')\n",
    "plt.ylabel('accuracy')\n",
    "plt.xlabel('epoch')\n",
    "plt.legend(['train', 'test'], loc='upper left')\n",
    "plt.show()\n",
    "testacc"
   ]
  },
  {
   "cell_type": "code",
   "execution_count": 70,
   "metadata": {
    "Collapsed": "false"
   },
   "outputs": [
    {
     "name": "stdout",
     "output_type": "stream",
     "text": [
      "Sizes of layers: [8, 4, 1]\n"
     ]
    },
    {
     "data": {
      "image/png": "[encoded data removed]",
      "text/plain": [
       "<Figure size 432x288 with 1 Axes>"
      ]
     },
     "metadata": {
      "needs_background": "light"
     },
     "output_type": "display_data"
    },
    {
     "data": {
      "image/png": "[encoded data removed]",
      "text/plain": [
       "<Figure size 432x288 with 1 Axes>"
      ]
     },
     "metadata": {
      "needs_background": "light"
     },
     "output_type": "display_data"
    },
    {
     "data": {
      "text/plain": [
       "0.8156425"
      ]
     },
     "execution_count": 70,
     "metadata": {},
     "output_type": "execute_result"
    }
   ],
   "source": [
    "history,testacc = neural_net(xtr,xte,ytr,yte,binary=True,denses=[8,4,1],dropout=0.5,epochnum=1000)\n",
    "\n",
    "plt.plot(history.history['accuracy'])\n",
    "plt.plot(history.history['val_accuracy'])\n",
    "plt.title('model accuracy')\n",
    "plt.ylabel('accuracy')\n",
    "plt.xlabel('epoch')\n",
    "plt.legend(['train', 'test'], loc='upper left')\n",
    "plt.show()\n",
    "\n",
    "plt.plot(history.history['loss'])\n",
    "plt.plot(history.history['val_loss'])\n",
    "plt.title('model loss')\n",
    "plt.ylabel('loss')\n",
    "plt.xlabel('epoch')\n",
    "plt.legend(['train', 'test'], loc='upper left')\n",
    "plt.show()\n",
    "testacc"
   ]
  },
  {
   "cell_type": "markdown",
   "metadata": {
    "Collapsed": "false"
   },
   "source": [
    "## Multi-Class Classification (on Fashion MNIST)"
   ]
  },
  {
   "cell_type": "markdown",
   "metadata": {
    "Collapsed": "false"
   },
   "source": [
    "### Dataset Initialize"
   ]
  },
  {
   "cell_type": "code",
   "execution_count": 275,
   "metadata": {
    "Collapsed": "false"
   },
   "outputs": [],
   "source": [
    "xtr, xte, ytr, yte = train_test_split(fashion_mnist_transformed.iloc[:,1:],fashion_mnist_transformed.iloc[:,0],test_size=0.2, random_state=0)"
   ]
  },
  {
   "cell_type": "markdown",
   "metadata": {
    "Collapsed": "false"
   },
   "source": [
    "### Sklearn"
   ]
  },
  {
   "cell_type": "code",
   "execution_count": 276,
   "metadata": {
    "Collapsed": "false"
   },
   "outputs": [
    {
     "name": "stdout",
     "output_type": "stream",
     "text": [
      "Accuracy on test set: 0.8479166666666667\n"
     ]
    }
   ],
   "source": [
    "tic=time.time()\n",
    "infotable_logreg_multi.iloc[0,0]= sklearn_logreg(xtr, xte, ytr, yte,  penalty ='l2',C=10)\n",
    "infotable_logreg_multi.iloc[0,1]= toc(tic)"
   ]
  },
  {
   "cell_type": "markdown",
   "metadata": {
    "Collapsed": "false"
   },
   "source": [
    "### Decision Tree"
   ]
  },
  {
   "cell_type": "code",
   "execution_count": 277,
   "metadata": {
    "Collapsed": "false"
   },
   "outputs": [],
   "source": [
    "tic=time.time()\n",
    "infotable_logreg_multi.iloc[1,0]= decision_tree_classify(xtr,xte,ytr,yte,max_depth=10,max_features=5)\n",
    "infotable_logreg_multi.iloc[1,1]= toc(tic)"
   ]
  },
  {
   "cell_type": "markdown",
   "metadata": {
    "Collapsed": "false"
   },
   "source": [
    "### Random Forest"
   ]
  },
  {
   "cell_type": "code",
   "execution_count": 278,
   "metadata": {
    "Collapsed": "false"
   },
   "outputs": [],
   "source": [
    "tic=time.time()\n",
    "infotable_logreg_multi.iloc[2,0]= random_forest_classify(xtr,xte,ytr,yte,max_depth=10,max_features=10)\n",
    "infotable_logreg_multi.iloc[2,1]= toc(tic)"
   ]
  },
  {
   "cell_type": "markdown",
   "metadata": {
    "Collapsed": "false"
   },
   "source": [
    "### XGBoost"
   ]
  },
  {
   "cell_type": "code",
   "execution_count": 279,
   "metadata": {
    "Collapsed": "false"
   },
   "outputs": [
    {
     "name": "stdout",
     "output_type": "stream",
     "text": [
      "Accuracy on test set by XGB : 0.822\n"
     ]
    }
   ],
   "source": [
    "tic=time.time()\n",
    "infotable_logreg_multi.iloc[3,0]= xgb_classification(xtr,xte,ytr,yte,obj=\"multi:softmax\",num_class=10,max_depth=3)\n",
    "infotable_logreg_multi.iloc[3,1]= toc(tic)"
   ]
  },
  {
   "cell_type": "markdown",
   "metadata": {
    "Collapsed": "false"
   },
   "source": [
    "### LGBoost"
   ]
  },
  {
   "cell_type": "code",
   "execution_count": 280,
   "metadata": {
    "Collapsed": "false"
   },
   "outputs": [],
   "source": [
    "tic=time.time()\n",
    "infotable_logreg_multi.iloc[4,0]= lgb_classification(xtr,xte,ytr,yte,obj=\"multiclass\",metric=\"multi_error\",num_class=10)\n",
    "infotable_logreg_multi.iloc[4,1]= toc(tic)"
   ]
  },
  {
   "cell_type": "code",
   "execution_count": 281,
   "metadata": {
    "Collapsed": "false"
   },
   "outputs": [
    {
     "data": {
      "text/html": [
       "<div>\n",
       "<style scoped>\n",
       "    .dataframe tbody tr th:only-of-type {\n",
       "        vertical-align: middle;\n",
       "    }\n",
       "\n",
       "    .dataframe tbody tr th {\n",
       "        vertical-align: top;\n",
       "    }\n",
       "\n",
       "    .dataframe thead th {\n",
       "        text-align: right;\n",
       "    }\n",
       "</style>\n",
       "<table border=\"1\" class=\"dataframe\">\n",
       "  <thead>\n",
       "    <tr style=\"text-align: right;\">\n",
       "      <th></th>\n",
       "      <th>Accuracy</th>\n",
       "      <th>Execution Time</th>\n",
       "    </tr>\n",
       "  </thead>\n",
       "  <tbody>\n",
       "    <tr>\n",
       "      <th>Sklearn</th>\n",
       "      <td>0.85</td>\n",
       "      <td>6.79</td>\n",
       "    </tr>\n",
       "    <tr>\n",
       "      <th>Random Forest</th>\n",
       "      <td>0.75</td>\n",
       "      <td>0.25</td>\n",
       "    </tr>\n",
       "    <tr>\n",
       "      <th>Decision Tree</th>\n",
       "      <td>0.85</td>\n",
       "      <td>13.91</td>\n",
       "    </tr>\n",
       "    <tr>\n",
       "      <th>LGB</th>\n",
       "      <td>0.82</td>\n",
       "      <td>46.25</td>\n",
       "    </tr>\n",
       "    <tr>\n",
       "      <th>XGB</th>\n",
       "      <td>0.88</td>\n",
       "      <td>32.60</td>\n",
       "    </tr>\n",
       "    <tr>\n",
       "      <th>Neural Net</th>\n",
       "      <td>NaN</td>\n",
       "      <td>NaN</td>\n",
       "    </tr>\n",
       "  </tbody>\n",
       "</table>\n",
       "</div>"
      ],
      "text/plain": [
       "              Accuracy Execution Time\n",
       "Sklearn           0.85           6.79\n",
       "Random Forest     0.75           0.25\n",
       "Decision Tree     0.85          13.91\n",
       "LGB               0.82          46.25\n",
       "XGB               0.88          32.60\n",
       "Neural Net         NaN            NaN"
      ]
     },
     "execution_count": 281,
     "metadata": {},
     "output_type": "execute_result"
    }
   ],
   "source": [
    "infotable_logreg_multi"
   ]
  },
  {
   "cell_type": "markdown",
   "metadata": {
    "Collapsed": "false"
   },
   "source": [
    "### Neural Net"
   ]
  },
  {
   "cell_type": "code",
   "execution_count": 282,
   "metadata": {
    "Collapsed": "false"
   },
   "outputs": [],
   "source": [
    "yte=pd.get_dummies(yte)\n",
    "ytr=pd.get_dummies(ytr)"
   ]
  },
  {
   "cell_type": "code",
   "execution_count": 283,
   "metadata": {
    "Collapsed": "false"
   },
   "outputs": [
    {
     "name": "stdout",
     "output_type": "stream",
     "text": [
      "Sizes of layers: [32, 64, 10]\n"
     ]
    }
   ],
   "source": [
    "history,testacc = neural_net(xtr,xte,ytr,yte,binary=False,denses=[32,64,10],dropout=0,epochnum=20)"
   ]
  },
  {
   "cell_type": "code",
   "execution_count": 284,
   "metadata": {
    "Collapsed": "false"
   },
   "outputs": [
    {
     "data": {
      "image/png": "[encoded data removed]",
      "text/plain": [
       "<Figure size 432x288 with 1 Axes>"
      ]
     },
     "metadata": {
      "needs_background": "light"
     },
     "output_type": "display_data"
    },
    {
     "data": {
      "text/plain": [
       "0.7101667"
      ]
     },
     "execution_count": 284,
     "metadata": {},
     "output_type": "execute_result"
    }
   ],
   "source": [
    "plt.plot(history.history['accuracy'])\n",
    "plt.plot(history.history['val_accuracy'])\n",
    "plt.title('model accuracy')\n",
    "plt.ylabel('accuracy')\n",
    "plt.xlabel('epoch')\n",
    "plt.legend(['train', 'test'], loc='upper left')\n",
    "plt.show()\n",
    "testacc"
   ]
  },
  {
   "cell_type": "markdown",
   "metadata": {
    "Collapsed": "false"
   },
   "source": [
    "# Comparison of Models"
   ]
  },
  {
   "cell_type": "markdown",
   "metadata": {
    "Collapsed": "false"
   },
   "source": [
    "## Linear Regression"
   ]
  },
  {
   "cell_type": "markdown",
   "metadata": {
    "Collapsed": "false"
   },
   "source": [
    "## Binary Classification"
   ]
  },
  {
   "cell_type": "markdown",
   "metadata": {
    "Collapsed": "false"
   },
   "source": [
    "## Multi-Class Classification"
   ]
  }
 ],
 "metadata": {
  "kernelspec": {
   "display_name": "TensorFlow-gpu",
   "language": "python",
   "name": "tensorflow-gpu"
  },
  "language_info": {
   "codemirror_mode": {
    "name": "ipython",
    "version": 3
   },
   "file_extension": ".py",
   "mimetype": "text/x-python",
   "name": "python",
   "nbconvert_exporter": "python",
   "pygments_lexer": "ipython3",
   "version": "3.7.7"
  },
  "toc-autonumbering": true,
  "toc-showcode": true,
  "toc-showmarkdowntxt": false
 },
 "nbformat": 4,
 "nbformat_minor": 4
}
