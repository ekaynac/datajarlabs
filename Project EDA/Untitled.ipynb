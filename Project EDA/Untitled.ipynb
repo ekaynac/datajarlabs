{
 "cells": [
  {
   "cell_type": "code",
   "execution_count": 8,
   "metadata": {},
   "outputs": [],
   "source": [
    "df = pd.read_csv(\"data14-4-2020.csv\")"
   ]
  },
  {
   "cell_type": "code",
   "execution_count": 28,
   "metadata": {},
   "outputs": [],
   "source": [
    "features_can_found_manually = [\"Population in largest city [EN.URB.LCTY]\",\n",
    "                               \"Life expectancy at birth, total (years) [SP.DYN.LE00.IN]\",\n",
    "                               \"Labor force, total [SL.TLF.TOTL.IN]\",\n",
    "                               \"Literacy rate, adult total (% of people ages 15 and above) [SE.ADT.LITR.ZS]\",\n",
    "                               \"Literacy rate, youth total (% of people ages 15-24) [SE.ADT.1524.LT.ZS]\",            \n",
    "                               \"Total alcohol consumption per capita (liters of pure alcohol, projected estimates, 15+ years of age) [SH.ALC.PCAP.LI]\",\n",
    "                               \"Age dependency ratio, young (% of working-age population) [SP.POP.DPND.YG]\"]"
   ]
  },
  {
   "cell_type": "code",
   "execution_count": 30,
   "metadata": {},
   "outputs": [
    {
     "name": "stdout",
     "output_type": "stream",
     "text": [
      "Total alcohol consumption per capita (liters of pure alcohol, projected estimates, 15+ years of age) [SH.ALC.PCAP.LI] is missing for Aruba\n",
      "Total alcohol consumption per capita (liters of pure alcohol, projected estimates, 15+ years of age) [SH.ALC.PCAP.LI] is missing for Bangladesh\n",
      "Total alcohol consumption per capita (liters of pure alcohol, projected estimates, 15+ years of age) [SH.ALC.PCAP.LI] is missing for Cayman Islands\n",
      "Total alcohol consumption per capita (liters of pure alcohol, projected estimates, 15+ years of age) [SH.ALC.PCAP.LI] is missing for Gibraltar\n",
      "Total alcohol consumption per capita (liters of pure alcohol, projected estimates, 15+ years of age) [SH.ALC.PCAP.LI] is missing for Greenland\n",
      "Total alcohol consumption per capita (liters of pure alcohol, projected estimates, 15+ years of age) [SH.ALC.PCAP.LI] is missing for Isle of Man\n",
      "Total alcohol consumption per capita (liters of pure alcohol, projected estimates, 15+ years of age) [SH.ALC.PCAP.LI] is missing for Kosovo\n",
      "Total alcohol consumption per capita (liters of pure alcohol, projected estimates, 15+ years of age) [SH.ALC.PCAP.LI] is missing for Kuwait\n",
      "Total alcohol consumption per capita (liters of pure alcohol, projected estimates, 15+ years of age) [SH.ALC.PCAP.LI] is missing for Liechtenstein\n",
      "Total alcohol consumption per capita (liters of pure alcohol, projected estimates, 15+ years of age) [SH.ALC.PCAP.LI] is missing for Mauritania\n",
      "Total alcohol consumption per capita (liters of pure alcohol, projected estimates, 15+ years of age) [SH.ALC.PCAP.LI] is missing for Monaco\n",
      "Total alcohol consumption per capita (liters of pure alcohol, projected estimates, 15+ years of age) [SH.ALC.PCAP.LI] is missing for San Marino\n",
      "Total alcohol consumption per capita (liters of pure alcohol, projected estimates, 15+ years of age) [SH.ALC.PCAP.LI] is missing for Somalia\n",
      "Age dependency ratio, young (% of working-age population) [SP.POP.DPND.YG] is missing for Andorra\n",
      "Age dependency ratio, young (% of working-age population) [SP.POP.DPND.YG] is missing for Bermuda\n",
      "Age dependency ratio, young (% of working-age population) [SP.POP.DPND.YG] is missing for Cayman Islands\n",
      "Age dependency ratio, young (% of working-age population) [SP.POP.DPND.YG] is missing for Dominica\n",
      "Age dependency ratio, young (% of working-age population) [SP.POP.DPND.YG] is missing for Gibraltar\n",
      "Age dependency ratio, young (% of working-age population) [SP.POP.DPND.YG] is missing for Greenland\n",
      "Age dependency ratio, young (% of working-age population) [SP.POP.DPND.YG] is missing for Isle of Man\n",
      "Age dependency ratio, young (% of working-age population) [SP.POP.DPND.YG] is missing for Kosovo\n",
      "Age dependency ratio, young (% of working-age population) [SP.POP.DPND.YG] is missing for Liechtenstein\n",
      "Age dependency ratio, young (% of working-age population) [SP.POP.DPND.YG] is missing for Monaco\n",
      "Age dependency ratio, young (% of working-age population) [SP.POP.DPND.YG] is missing for San Marino\n"
     ]
    }
   ],
   "source": [
    "df = pd.read_csv(\"data14-4-2020.csv\")\n",
    "\n",
    "dfcountrycheck = df.groupby(by = \"Country Name\").sum()\n",
    "\n",
    "for feature in features_can_found_manually:\n",
    "    for country in dfcountrycheck.index:\n",
    "        if dfcountrycheck.loc[country,feature] == 0:\n",
    "            print(\"{} is missing for {}\".format(feature,country))"
   ]
  },
  {
   "cell_type": "code",
   "execution_count": 20,
   "metadata": {},
   "outputs": [
    {
     "data": {
      "text/plain": [
       "574    1.6\n",
       "575    1.6\n",
       "576    1.6\n",
       "577    1.6\n",
       "578    1.6\n",
       "579    1.6\n",
       "580    1.6\n",
       "581    1.6\n",
       "582    1.6\n",
       "583    1.6\n",
       "584    1.6\n",
       "585    1.6\n",
       "586    1.6\n",
       "587    1.6\n",
       "588    1.6\n",
       "589    1.6\n",
       "590    1.6\n",
       "591    1.6\n",
       "Name: Net migration [SM.POP.NETM], dtype: float64"
      ]
     },
     "execution_count": 20,
     "metadata": {},
     "output_type": "execute_result"
    }
   ],
   "source": [
    "df[df[\"Country Name\"]== \"Bermuda\"][\"Net migration [SM.POP.NETM]\"]"
   ]
  }
 ],
 "metadata": {
  "kernelspec": {
   "display_name": "Python 3",
   "language": "python",
   "name": "python3"
  },
  "language_info": {
   "codemirror_mode": {
    "name": "ipython",
    "version": 3
   },
   "file_extension": ".py",
   "mimetype": "text/x-python",
   "name": "python",
   "nbconvert_exporter": "python",
   "pygments_lexer": "ipython3",
   "version": "3.7.6"
  }
 },
 "nbformat": 4,
 "nbformat_minor": 4
}
