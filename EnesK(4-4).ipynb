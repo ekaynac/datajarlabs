{
 "cells": [
  {
   "cell_type": "code",
   "execution_count": 2,
   "metadata": {},
   "outputs": [],
   "source": [
    "import numpy as np\n",
    "import pandas as pd\n",
    "import matplotlib.pyplot as plt"
   ]
  },
  {
   "cell_type": "code",
   "execution_count": 10,
   "metadata": {},
   "outputs": [
    {
     "data": {
      "text/html": [
       "<div>\n",
       "<style scoped>\n",
       "    .dataframe tbody tr th:only-of-type {\n",
       "        vertical-align: middle;\n",
       "    }\n",
       "\n",
       "    .dataframe tbody tr th {\n",
       "        vertical-align: top;\n",
       "    }\n",
       "\n",
       "    .dataframe thead th {\n",
       "        text-align: right;\n",
       "    }\n",
       "</style>\n",
       "<table border=\"1\" class=\"dataframe\">\n",
       "  <thead>\n",
       "    <tr style=\"text-align: right;\">\n",
       "      <th></th>\n",
       "      <th>Unnamed: 0</th>\n",
       "      <th>PRIMARY_KEY</th>\n",
       "      <th>STATE</th>\n",
       "      <th>YEAR</th>\n",
       "      <th>ENROLL</th>\n",
       "      <th>TOTAL_REVENUE</th>\n",
       "      <th>FEDERAL_REVENUE</th>\n",
       "      <th>STATE_REVENUE</th>\n",
       "      <th>LOCAL_REVENUE</th>\n",
       "      <th>TOTAL_EXPENDITURE</th>\n",
       "      <th>...</th>\n",
       "      <th>GRADES_4_G</th>\n",
       "      <th>GRADES_8_G</th>\n",
       "      <th>GRADES_12_G</th>\n",
       "      <th>GRADES_1_8_G</th>\n",
       "      <th>GRADES_9_12_G</th>\n",
       "      <th>GRADES_ALL_G</th>\n",
       "      <th>AVG_MATH_4_SCORE</th>\n",
       "      <th>AVG_MATH_8_SCORE</th>\n",
       "      <th>AVG_READING_4_SCORE</th>\n",
       "      <th>AVG_READING_8_SCORE</th>\n",
       "    </tr>\n",
       "  </thead>\n",
       "  <tbody>\n",
       "    <tr>\n",
       "      <th>0</th>\n",
       "      <td>0</td>\n",
       "      <td>1992_ALABAMA</td>\n",
       "      <td>ALABAMA</td>\n",
       "      <td>1992</td>\n",
       "      <td>NaN</td>\n",
       "      <td>2.678885e+06</td>\n",
       "      <td>3.041770e+05</td>\n",
       "      <td>1.659028e+06</td>\n",
       "      <td>7.156800e+05</td>\n",
       "      <td>2.653798e+06</td>\n",
       "      <td>...</td>\n",
       "      <td>57948.000000</td>\n",
       "      <td>58025.000000</td>\n",
       "      <td>41167.000000</td>\n",
       "      <td>NaN</td>\n",
       "      <td>NaN</td>\n",
       "      <td>7.316340e+05</td>\n",
       "      <td>208.327876</td>\n",
       "      <td>252.187522</td>\n",
       "      <td>207.963517</td>\n",
       "      <td>NaN</td>\n",
       "    </tr>\n",
       "    <tr>\n",
       "      <th>1</th>\n",
       "      <td>1</td>\n",
       "      <td>1992_ALASKA</td>\n",
       "      <td>ALASKA</td>\n",
       "      <td>1992</td>\n",
       "      <td>NaN</td>\n",
       "      <td>1.049591e+06</td>\n",
       "      <td>1.067800e+05</td>\n",
       "      <td>7.207110e+05</td>\n",
       "      <td>2.221000e+05</td>\n",
       "      <td>9.724880e+05</td>\n",
       "      <td>...</td>\n",
       "      <td>9748.000000</td>\n",
       "      <td>8789.000000</td>\n",
       "      <td>6714.000000</td>\n",
       "      <td>NaN</td>\n",
       "      <td>NaN</td>\n",
       "      <td>1.224870e+05</td>\n",
       "      <td>NaN</td>\n",
       "      <td>NaN</td>\n",
       "      <td>NaN</td>\n",
       "      <td>258.859712</td>\n",
       "    </tr>\n",
       "    <tr>\n",
       "      <th>2</th>\n",
       "      <td>2</td>\n",
       "      <td>1992_ARIZONA</td>\n",
       "      <td>ARIZONA</td>\n",
       "      <td>1992</td>\n",
       "      <td>NaN</td>\n",
       "      <td>3.258079e+06</td>\n",
       "      <td>2.978880e+05</td>\n",
       "      <td>1.369815e+06</td>\n",
       "      <td>1.590376e+06</td>\n",
       "      <td>3.401580e+06</td>\n",
       "      <td>...</td>\n",
       "      <td>55433.000000</td>\n",
       "      <td>49081.000000</td>\n",
       "      <td>37410.000000</td>\n",
       "      <td>NaN</td>\n",
       "      <td>NaN</td>\n",
       "      <td>6.734770e+05</td>\n",
       "      <td>215.253932</td>\n",
       "      <td>265.366278</td>\n",
       "      <td>206.212716</td>\n",
       "      <td>262.169895</td>\n",
       "    </tr>\n",
       "    <tr>\n",
       "      <th>3</th>\n",
       "      <td>3</td>\n",
       "      <td>1992_ARKANSAS</td>\n",
       "      <td>ARKANSAS</td>\n",
       "      <td>1992</td>\n",
       "      <td>NaN</td>\n",
       "      <td>1.711959e+06</td>\n",
       "      <td>1.785710e+05</td>\n",
       "      <td>9.587850e+05</td>\n",
       "      <td>5.746030e+05</td>\n",
       "      <td>1.743022e+06</td>\n",
       "      <td>...</td>\n",
       "      <td>34632.000000</td>\n",
       "      <td>36011.000000</td>\n",
       "      <td>27651.000000</td>\n",
       "      <td>NaN</td>\n",
       "      <td>NaN</td>\n",
       "      <td>4.414900e+05</td>\n",
       "      <td>210.206028</td>\n",
       "      <td>256.312090</td>\n",
       "      <td>208.634458</td>\n",
       "      <td>264.619665</td>\n",
       "    </tr>\n",
       "    <tr>\n",
       "      <th>4</th>\n",
       "      <td>4</td>\n",
       "      <td>1992_CALIFORNIA</td>\n",
       "      <td>CALIFORNIA</td>\n",
       "      <td>1992</td>\n",
       "      <td>NaN</td>\n",
       "      <td>2.626002e+07</td>\n",
       "      <td>2.072470e+06</td>\n",
       "      <td>1.654651e+07</td>\n",
       "      <td>7.641041e+06</td>\n",
       "      <td>2.713883e+07</td>\n",
       "      <td>...</td>\n",
       "      <td>418418.000000</td>\n",
       "      <td>363296.000000</td>\n",
       "      <td>270675.000000</td>\n",
       "      <td>NaN</td>\n",
       "      <td>NaN</td>\n",
       "      <td>5.254844e+06</td>\n",
       "      <td>208.398961</td>\n",
       "      <td>260.892247</td>\n",
       "      <td>196.764414</td>\n",
       "      <td>NaN</td>\n",
       "    </tr>\n",
       "    <tr>\n",
       "      <th>...</th>\n",
       "      <td>...</td>\n",
       "      <td>...</td>\n",
       "      <td>...</td>\n",
       "      <td>...</td>\n",
       "      <td>...</td>\n",
       "      <td>...</td>\n",
       "      <td>...</td>\n",
       "      <td>...</td>\n",
       "      <td>...</td>\n",
       "      <td>...</td>\n",
       "      <td>...</td>\n",
       "      <td>...</td>\n",
       "      <td>...</td>\n",
       "      <td>...</td>\n",
       "      <td>...</td>\n",
       "      <td>...</td>\n",
       "      <td>...</td>\n",
       "      <td>...</td>\n",
       "      <td>...</td>\n",
       "      <td>...</td>\n",
       "      <td>...</td>\n",
       "    </tr>\n",
       "    <tr>\n",
       "      <th>1913</th>\n",
       "      <td>1913</td>\n",
       "      <td>2017_NORTH_DAKOTA</td>\n",
       "      <td>NORTH_DAKOTA</td>\n",
       "      <td>2017</td>\n",
       "      <td>952388.764706</td>\n",
       "      <td>1.337367e+07</td>\n",
       "      <td>1.061579e+06</td>\n",
       "      <td>6.234438e+06</td>\n",
       "      <td>6.077655e+06</td>\n",
       "      <td>1.326522e+07</td>\n",
       "      <td>...</td>\n",
       "      <td>75675.980392</td>\n",
       "      <td>73966.196078</td>\n",
       "      <td>71204.901961</td>\n",
       "      <td>159595.0</td>\n",
       "      <td>296813.627451</td>\n",
       "      <td>9.938346e+05</td>\n",
       "      <td>244.243515</td>\n",
       "      <td>288.172322</td>\n",
       "      <td>221.519266</td>\n",
       "      <td>262.720477</td>\n",
       "    </tr>\n",
       "    <tr>\n",
       "      <th>1914</th>\n",
       "      <td>1914</td>\n",
       "      <td>2017_RHODE_ISLAND</td>\n",
       "      <td>RHODE_ISLAND</td>\n",
       "      <td>2017</td>\n",
       "      <td>952388.764706</td>\n",
       "      <td>1.337367e+07</td>\n",
       "      <td>1.061579e+06</td>\n",
       "      <td>6.234438e+06</td>\n",
       "      <td>6.077655e+06</td>\n",
       "      <td>1.326522e+07</td>\n",
       "      <td>...</td>\n",
       "      <td>75675.980392</td>\n",
       "      <td>73966.196078</td>\n",
       "      <td>71204.901961</td>\n",
       "      <td>159595.0</td>\n",
       "      <td>296813.627451</td>\n",
       "      <td>9.938346e+05</td>\n",
       "      <td>237.554934</td>\n",
       "      <td>277.180126</td>\n",
       "      <td>223.353443</td>\n",
       "      <td>269.553823</td>\n",
       "    </tr>\n",
       "    <tr>\n",
       "      <th>1915</th>\n",
       "      <td>1915</td>\n",
       "      <td>2017_SOUTH_CAROLINA</td>\n",
       "      <td>SOUTH_CAROLINA</td>\n",
       "      <td>2017</td>\n",
       "      <td>952388.764706</td>\n",
       "      <td>1.337367e+07</td>\n",
       "      <td>1.061579e+06</td>\n",
       "      <td>6.234438e+06</td>\n",
       "      <td>6.077655e+06</td>\n",
       "      <td>1.326522e+07</td>\n",
       "      <td>...</td>\n",
       "      <td>75675.980392</td>\n",
       "      <td>73966.196078</td>\n",
       "      <td>71204.901961</td>\n",
       "      <td>159595.0</td>\n",
       "      <td>296813.627451</td>\n",
       "      <td>9.938346e+05</td>\n",
       "      <td>234.043993</td>\n",
       "      <td>274.673821</td>\n",
       "      <td>213.127835</td>\n",
       "      <td>265.767860</td>\n",
       "    </tr>\n",
       "    <tr>\n",
       "      <th>1916</th>\n",
       "      <td>1916</td>\n",
       "      <td>2017_SOUTH_DAKOTA</td>\n",
       "      <td>SOUTH_DAKOTA</td>\n",
       "      <td>2017</td>\n",
       "      <td>952388.764706</td>\n",
       "      <td>1.337367e+07</td>\n",
       "      <td>1.061579e+06</td>\n",
       "      <td>6.234438e+06</td>\n",
       "      <td>6.077655e+06</td>\n",
       "      <td>1.326522e+07</td>\n",
       "      <td>...</td>\n",
       "      <td>75675.980392</td>\n",
       "      <td>73966.196078</td>\n",
       "      <td>71204.901961</td>\n",
       "      <td>159595.0</td>\n",
       "      <td>296813.627451</td>\n",
       "      <td>9.938346e+05</td>\n",
       "      <td>241.588947</td>\n",
       "      <td>286.376160</td>\n",
       "      <td>221.750123</td>\n",
       "      <td>259.753002</td>\n",
       "    </tr>\n",
       "    <tr>\n",
       "      <th>1917</th>\n",
       "      <td>1917</td>\n",
       "      <td>2017_WEST_VIRGINIA</td>\n",
       "      <td>WEST_VIRGINIA</td>\n",
       "      <td>2017</td>\n",
       "      <td>952388.764706</td>\n",
       "      <td>1.337367e+07</td>\n",
       "      <td>1.061579e+06</td>\n",
       "      <td>6.234438e+06</td>\n",
       "      <td>6.077655e+06</td>\n",
       "      <td>1.326522e+07</td>\n",
       "      <td>...</td>\n",
       "      <td>75675.980392</td>\n",
       "      <td>73966.196078</td>\n",
       "      <td>71204.901961</td>\n",
       "      <td>159595.0</td>\n",
       "      <td>296813.627451</td>\n",
       "      <td>9.938346e+05</td>\n",
       "      <td>236.057019</td>\n",
       "      <td>273.415854</td>\n",
       "      <td>217.316396</td>\n",
       "      <td>271.617023</td>\n",
       "    </tr>\n",
       "  </tbody>\n",
       "</table>\n",
       "<p>1918 rows × 26 columns</p>\n",
       "</div>"
      ],
      "text/plain": [
       "      Unnamed: 0          PRIMARY_KEY           STATE  YEAR         ENROLL  \\\n",
       "0              0         1992_ALABAMA         ALABAMA  1992            NaN   \n",
       "1              1          1992_ALASKA          ALASKA  1992            NaN   \n",
       "2              2         1992_ARIZONA         ARIZONA  1992            NaN   \n",
       "3              3        1992_ARKANSAS        ARKANSAS  1992            NaN   \n",
       "4              4      1992_CALIFORNIA      CALIFORNIA  1992            NaN   \n",
       "...          ...                  ...             ...   ...            ...   \n",
       "1913        1913    2017_NORTH_DAKOTA    NORTH_DAKOTA  2017  952388.764706   \n",
       "1914        1914    2017_RHODE_ISLAND    RHODE_ISLAND  2017  952388.764706   \n",
       "1915        1915  2017_SOUTH_CAROLINA  SOUTH_CAROLINA  2017  952388.764706   \n",
       "1916        1916    2017_SOUTH_DAKOTA    SOUTH_DAKOTA  2017  952388.764706   \n",
       "1917        1917   2017_WEST_VIRGINIA   WEST_VIRGINIA  2017  952388.764706   \n",
       "\n",
       "      TOTAL_REVENUE  FEDERAL_REVENUE  STATE_REVENUE  LOCAL_REVENUE  \\\n",
       "0      2.678885e+06     3.041770e+05   1.659028e+06   7.156800e+05   \n",
       "1      1.049591e+06     1.067800e+05   7.207110e+05   2.221000e+05   \n",
       "2      3.258079e+06     2.978880e+05   1.369815e+06   1.590376e+06   \n",
       "3      1.711959e+06     1.785710e+05   9.587850e+05   5.746030e+05   \n",
       "4      2.626002e+07     2.072470e+06   1.654651e+07   7.641041e+06   \n",
       "...             ...              ...            ...            ...   \n",
       "1913   1.337367e+07     1.061579e+06   6.234438e+06   6.077655e+06   \n",
       "1914   1.337367e+07     1.061579e+06   6.234438e+06   6.077655e+06   \n",
       "1915   1.337367e+07     1.061579e+06   6.234438e+06   6.077655e+06   \n",
       "1916   1.337367e+07     1.061579e+06   6.234438e+06   6.077655e+06   \n",
       "1917   1.337367e+07     1.061579e+06   6.234438e+06   6.077655e+06   \n",
       "\n",
       "      TOTAL_EXPENDITURE  ...     GRADES_4_G     GRADES_8_G    GRADES_12_G  \\\n",
       "0          2.653798e+06  ...   57948.000000   58025.000000   41167.000000   \n",
       "1          9.724880e+05  ...    9748.000000    8789.000000    6714.000000   \n",
       "2          3.401580e+06  ...   55433.000000   49081.000000   37410.000000   \n",
       "3          1.743022e+06  ...   34632.000000   36011.000000   27651.000000   \n",
       "4          2.713883e+07  ...  418418.000000  363296.000000  270675.000000   \n",
       "...                 ...  ...            ...            ...            ...   \n",
       "1913       1.326522e+07  ...   75675.980392   73966.196078   71204.901961   \n",
       "1914       1.326522e+07  ...   75675.980392   73966.196078   71204.901961   \n",
       "1915       1.326522e+07  ...   75675.980392   73966.196078   71204.901961   \n",
       "1916       1.326522e+07  ...   75675.980392   73966.196078   71204.901961   \n",
       "1917       1.326522e+07  ...   75675.980392   73966.196078   71204.901961   \n",
       "\n",
       "      GRADES_1_8_G  GRADES_9_12_G  GRADES_ALL_G  AVG_MATH_4_SCORE  \\\n",
       "0              NaN            NaN  7.316340e+05        208.327876   \n",
       "1              NaN            NaN  1.224870e+05               NaN   \n",
       "2              NaN            NaN  6.734770e+05        215.253932   \n",
       "3              NaN            NaN  4.414900e+05        210.206028   \n",
       "4              NaN            NaN  5.254844e+06        208.398961   \n",
       "...            ...            ...           ...               ...   \n",
       "1913      159595.0  296813.627451  9.938346e+05        244.243515   \n",
       "1914      159595.0  296813.627451  9.938346e+05        237.554934   \n",
       "1915      159595.0  296813.627451  9.938346e+05        234.043993   \n",
       "1916      159595.0  296813.627451  9.938346e+05        241.588947   \n",
       "1917      159595.0  296813.627451  9.938346e+05        236.057019   \n",
       "\n",
       "      AVG_MATH_8_SCORE  AVG_READING_4_SCORE  AVG_READING_8_SCORE  \n",
       "0           252.187522           207.963517                  NaN  \n",
       "1                  NaN                  NaN           258.859712  \n",
       "2           265.366278           206.212716           262.169895  \n",
       "3           256.312090           208.634458           264.619665  \n",
       "4           260.892247           196.764414                  NaN  \n",
       "...                ...                  ...                  ...  \n",
       "1913        288.172322           221.519266           262.720477  \n",
       "1914        277.180126           223.353443           269.553823  \n",
       "1915        274.673821           213.127835           265.767860  \n",
       "1916        286.376160           221.750123           259.753002  \n",
       "1917        273.415854           217.316396           271.617023  \n",
       "\n",
       "[1918 rows x 26 columns]"
      ]
     },
     "execution_count": 10,
     "metadata": {},
     "output_type": "execute_result"
    }
   ],
   "source": [
    "df = pd.read_csv(\"states_cleared_all\")\n",
    "df"
   ]
  },
  {
   "cell_type": "code",
   "execution_count": 52,
   "metadata": {
    "scrolled": true
   },
   "outputs": [
    {
     "data": {
      "image/png": "[encoded data removed]",
      "text/plain": [
       "<Figure size 432x288 with 2 Axes>"
      ]
     },
     "metadata": {
      "needs_background": "light"
     },
     "output_type": "display_data"
    }
   ],
   "source": [
    "plt.figure()\n",
    "\n",
    "plt.subplot(1,2,1)\n",
    "plt.boxplot(df[\"TOTAL_REVENUE\"])\n",
    "plt.title(\"TOTAL REVENUE\")\n",
    "\n",
    "\n",
    "plt.subplot(1,2,2)\n",
    "plt.boxplot(np.log(df[\"TOTAL_REVENUE\"]))\n",
    "plt.title(\"TOTAL REVENUE\")\n",
    "plt.show()"
   ]
  },
  {
   "cell_type": "code",
   "execution_count": 53,
   "metadata": {
    "scrolled": true
   },
   "outputs": [
    {
     "data": {
      "image/png": "[encoded data removed]",
      "text/plain": [
       "<Figure size 432x288 with 2 Axes>"
      ]
     },
     "metadata": {
      "needs_background": "light"
     },
     "output_type": "display_data"
    }
   ],
   "source": [
    "plt.figure()\n",
    "\n",
    "plt.subplot(1,2,1)\n",
    "plt.boxplot(df[\"TOTAL_EXPENDITURE\"])\n",
    "plt.title(\"TOTAL EXPENDITURE\")\n",
    "\n",
    "\n",
    "plt.subplot(1,2,2)\n",
    "plt.boxplot(np.log(df[\"TOTAL_EXPENDITURE\"]))\n",
    "plt.title(\"TOTAL EXPENDITURE\")\n",
    "plt.show()"
   ]
  },
  {
   "cell_type": "code",
   "execution_count": 24,
   "metadata": {},
   "outputs": [],
   "source": [
    "from scipy.stats import zscore\n",
    "\n",
    "z_tr =zscore(df[\"TOTAL_REVENUE\"])\n",
    "z_te = zscore(df[\"TOTAL_EXPENDITURE\"])"
   ]
  },
  {
   "cell_type": "code",
   "execution_count": 54,
   "metadata": {},
   "outputs": [],
   "source": [
    "zlog_tr =zscore(np.log(df[\"TOTAL_REVENUE\"]))\n",
    "zlog_te =zscore(np.log(df[\"TOTAL_EXPENDITURE\"]))"
   ]
  },
  {
   "cell_type": "code",
   "execution_count": 29,
   "metadata": {},
   "outputs": [
    {
     "name": "stdout",
     "output_type": "stream",
     "text": [
      "Eşik değeri: 1\n",
      "Aykırı değerlerin sayısı: 154\n",
      "------\n",
      "Eşik değeri: 2\n",
      "Aykırı değerlerin sayısı: 72\n",
      "------\n",
      "Eşik değeri: 3\n",
      "Aykırı değerlerin sayısı: 43\n",
      "------\n",
      "Eşik değeri: 4\n",
      "Aykırı değerlerin sayısı: 34\n",
      "------\n",
      "Eşik değeri: 5\n",
      "Aykırı değerlerin sayısı: 21\n",
      "------\n",
      "Eşik değeri: 6\n",
      "Aykırı değerlerin sayısı: 9\n",
      "------\n",
      "Eşik değeri: 7\n",
      "Aykırı değerlerin sayısı: 2\n",
      "------\n",
      "Eşik değeri: 8\n",
      "Aykırı değerlerin sayısı: 1\n",
      "------\n",
      "Eşik değeri: 9\n",
      "Aykırı değerlerin sayısı: 0\n",
      "------\n"
     ]
    }
   ],
   "source": [
    "for threshold in range(1,10):\n",
    "    print(\"Eşik değeri: {}\".format(threshold))\n",
    "    print(\"Aykırı değerlerin sayısı: {}\".format(len((np.where(z_tr > threshold)[0]))))\n",
    "    print('------')"
   ]
  },
  {
   "cell_type": "code",
   "execution_count": 30,
   "metadata": {},
   "outputs": [
    {
     "name": "stdout",
     "output_type": "stream",
     "text": [
      "Eşik değeri: 1\n",
      "Aykırı değerlerin sayısı: 157\n",
      "------\n",
      "Eşik değeri: 2\n",
      "Aykırı değerlerin sayısı: 68\n",
      "------\n",
      "Eşik değeri: 3\n",
      "Aykırı değerlerin sayısı: 45\n",
      "------\n",
      "Eşik değeri: 4\n",
      "Aykırı değerlerin sayısı: 35\n",
      "------\n",
      "Eşik değeri: 5\n",
      "Aykırı değerlerin sayısı: 22\n",
      "------\n",
      "Eşik değeri: 6\n",
      "Aykırı değerlerin sayısı: 11\n",
      "------\n",
      "Eşik değeri: 7\n",
      "Aykırı değerlerin sayısı: 1\n",
      "------\n",
      "Eşik değeri: 8\n",
      "Aykırı değerlerin sayısı: 0\n",
      "------\n",
      "Eşik değeri: 9\n",
      "Aykırı değerlerin sayısı: 0\n",
      "------\n"
     ]
    }
   ],
   "source": [
    "for threshold in range(1,10):\n",
    "    print(\"Eşik değeri: {}\".format(threshold))\n",
    "    print(\"Aykırı değerlerin sayısı: {}\".format(len((np.where(z_te > threshold)[0]))))\n",
    "    print('------')"
   ]
  },
  {
   "cell_type": "code",
   "execution_count": 48,
   "metadata": {},
   "outputs": [
    {
     "data": {
      "image/png": "[encoded data removed]",
      "text/plain": [
       "<Figure size 1080x360 with 2 Axes>"
      ]
     },
     "metadata": {
      "needs_background": "light"
     },
     "output_type": "display_data"
    },
    {
     "data": {
      "image/png": "[encoded data removed]",
      "text/plain": [
       "<Figure size 1080x360 with 2 Axes>"
      ]
     },
     "metadata": {
      "needs_background": "light"
     },
     "output_type": "display_data"
    }
   ],
   "source": [
    "from scipy.stats.mstats import winsorize\n",
    "\n",
    "plt.figure(figsize = (15,5))\n",
    "\n",
    "plt.subplot(1,2,1)\n",
    "plt.hist(df[\"TOTAL_EXPENDITURE\"])\n",
    "\n",
    "plt.subplot(1,2,2)\n",
    "plt.hist(df[\"TOTAL_REVENUE\"])\n",
    "plt.show()\n",
    "\n",
    "plt.figure(figsize = (15,5))\n",
    "plt.subplot(1,2,1)\n",
    "plt.hist(np.log(df[\"TOTAL_EXPENDITURE\"]))\n",
    "plt.subplot(1,2,2)\n",
    "plt.hist(np.log(df[\"TOTAL_REVENUE\"]))\n",
    "plt.show()"
   ]
  },
  {
   "cell_type": "code",
   "execution_count": 65,
   "metadata": {},
   "outputs": [
    {
     "name": "stdout",
     "output_type": "stream",
     "text": [
      "Eşik değeri: 0\n",
      "Aykırı değerlerin sayısı: 1058\n",
      "------\n",
      "Eşik değeri: 1\n",
      "Aykırı değerlerin sayısı: 209\n",
      "------\n",
      "Eşik değeri: 2\n",
      "Aykırı değerlerin sayısı: 43\n",
      "------\n",
      "Eşik değeri: 3\n",
      "Aykırı değerlerin sayısı: 0\n",
      "------\n",
      "Eşik değeri: 4\n",
      "Aykırı değerlerin sayısı: 0\n",
      "------\n",
      "Eşik değeri: 1\n",
      "Aykırı değerlerin sayısı: 205\n",
      "------\n",
      "Eşik değeri: 2\n",
      "Aykırı değerlerin sayısı: 45\n",
      "------\n",
      "Eşik değeri: 3\n",
      "Aykırı değerlerin sayısı: 0\n",
      "------\n",
      "Eşik değeri: 4\n",
      "Aykırı değerlerin sayısı: 0\n",
      "------\n"
     ]
    }
   ],
   "source": [
    "for threshold in range(0,5):\n",
    "    print(\"Eşik değeri: {}\".format(threshold))\n",
    "    print(\"Aykırı değerlerin sayısı: {}\".format(len((np.where(zlog_tr > threshold)[0]))))\n",
    "    print('------')\n",
    "    \n",
    "    \n",
    "for threshold in range(1,5):\n",
    "    print(\"Eşik değeri: {}\".format(threshold))\n",
    "    print(\"Aykırı değerlerin sayısı: {}\".format(len((np.where(zlog_te > threshold)[0]))))\n",
    "    print('------')"
   ]
  },
  {
   "cell_type": "code",
   "execution_count": 92,
   "metadata": {},
   "outputs": [
    {
     "data": {
      "text/plain": [
       "<function matplotlib.pyplot.show(*args, **kw)>"
      ]
     },
     "execution_count": 92,
     "metadata": {},
     "output_type": "execute_result"
    },
    {
     "data": {
      "image/png": "[encoded data removed]",
      "text/plain": [
       "<Figure size 1080x360 with 2 Axes>"
      ]
     },
     "metadata": {
      "needs_background": "light"
     },
     "output_type": "display_data"
    }
   ],
   "source": [
    "butce_acigi= df[\"TOTAL_REVENUE\"] - df[\"TOTAL_EXPENDITURE\"]\n",
    "\n",
    "plt.figure(figsize = (15,5))\n",
    "plt.subplot(1,2,1)\n",
    "plt.hist(butce_acigi,bins=50)\n",
    "plt.show\n",
    "plt.subplot(1,2,2)\n",
    "plt.boxplot(butce_acigi)\n",
    "plt.show\n"
   ]
  },
  {
   "cell_type": "code",
   "execution_count": 121,
   "metadata": {},
   "outputs": [
    {
     "data": {
      "text/plain": [
       "<function matplotlib.pyplot.show(*args, **kw)>"
      ]
     },
     "execution_count": 121,
     "metadata": {},
     "output_type": "execute_result"
    },
    {
     "data": {
      "image/png": "[encoded data removed]",
      "text/plain": [
       "<Figure size 1080x360 with 2 Axes>"
      ]
     },
     "metadata": {
      "needs_background": "light"
     },
     "output_type": "display_data"
    }
   ],
   "source": [
    "plt.figure(figsize = (15,5))\n",
    "plt.subplot(1,2,1)\n",
    "plt.hist(butce_acigi,bins=50)\n",
    "plt.show\n",
    "\n",
    "plt.subplot(1,2,2)\n",
    "plt.boxplot(butce_acigi,whis=20)\n",
    "plt.show\n",
    "\n",
    "\n"
   ]
  }
 ],
 "metadata": {
  "kernelspec": {
   "display_name": "Python 3",
   "language": "python",
   "name": "python3"
  },
  "language_info": {
   "codemirror_mode": {
    "name": "ipython",
    "version": 3
   },
   "file_extension": ".py",
   "mimetype": "text/x-python",
   "name": "python",
   "nbconvert_exporter": "python",
   "pygments_lexer": "ipython3",
   "version": "3.7.6"
  }
 },
 "nbformat": 4,
 "nbformat_minor": 4
}
